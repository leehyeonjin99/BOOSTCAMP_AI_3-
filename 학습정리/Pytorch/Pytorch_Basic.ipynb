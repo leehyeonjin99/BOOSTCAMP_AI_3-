{
  "nbformat": 4,
  "nbformat_minor": 0,
  "metadata": {
    "colab": {
      "name": "Pytorch _Basic",
      "provenance": [],
      "collapsed_sections": [],
      "authorship_tag": "ABX9TyM9zmgksPOIE1a/DiTtqWtn",
      "include_colab_link": true
    },
    "kernelspec": {
      "name": "python3",
      "display_name": "Python 3"
    },
    "language_info": {
      "name": "python"
    },
    "accelerator": "GPU"
  },
  "cells": [
    {
      "cell_type": "markdown",
      "metadata": {
        "id": "view-in-github",
        "colab_type": "text"
      },
      "source": [
        "<a href=\"https://colab.research.google.com/github/leehyeonjin99/BOOSTCAMP_AI_Tech_Study_Diary/blob/main/%ED%95%99%EC%8A%B5%EC%A0%95%EB%A6%AC/Pytorch/Pytorch_Basic.ipynb\" target=\"_parent\"><img src=\"https://colab.research.google.com/assets/colab-badge.svg\" alt=\"Open In Colab\"/></a>"
      ]
    },
    {
      "cell_type": "markdown",
      "source": [
        "## Tensor"
      ],
      "metadata": {
        "id": "Riiq9w4CIsWK"
      }
    },
    {
      "cell_type": "code",
      "execution_count": 1,
      "metadata": {
        "colab": {
          "base_uri": "https://localhost:8080/"
        },
        "id": "y8IScyliIIuk",
        "outputId": "8717acca-421e-4583-f659-39a939792444"
      },
      "outputs": [
        {
          "output_type": "stream",
          "name": "stdout",
          "text": [
            "[[0 1 2 3 4]\n",
            " [5 6 7 8 9]]\n",
            "ndim : 2, shape : (2, 5)\n"
          ]
        }
      ],
      "source": [
        "# numpy-ndarray\n",
        "import numpy as np\n",
        "n_array=np.arange(10).reshape(2,5)\n",
        "print(n_array)\n",
        "print(f\"ndim : {n_array.ndim}, shape : {n_array.shape}\")"
      ]
    },
    {
      "cell_type": "code",
      "source": [
        "# pytorch-tensor \n",
        "import torch\n",
        "t_array=torch.FloatTensor(n_array)\n",
        "print(t_array)\n",
        "print(f\"ndim : {t_array.ndim}, shape : {t_array.shape}\")"
      ],
      "metadata": {
        "colab": {
          "base_uri": "https://localhost:8080/"
        },
        "id": "gMJ52iF9IwfA",
        "outputId": "411ff2a4-fea7-4455-b329-32b92baba8e9"
      },
      "execution_count": 2,
      "outputs": [
        {
          "output_type": "stream",
          "name": "stdout",
          "text": [
            "tensor([[0., 1., 2., 3., 4.],\n",
            "        [5., 6., 7., 8., 9.]])\n",
            "ndim : 2, shape : torch.Size([2, 5])\n"
          ]
        }
      ]
    },
    {
      "cell_type": "code",
      "source": [
        "# data to tensor\n",
        "data=[[3,5],[10,5]]\n",
        "x_data=torch.tensor(data)\n",
        "x_data"
      ],
      "metadata": {
        "colab": {
          "base_uri": "https://localhost:8080/"
        },
        "id": "NkyPiI0LIyj1",
        "outputId": "81659060-2522-4229-d73a-bd206fcff527"
      },
      "execution_count": 3,
      "outputs": [
        {
          "output_type": "execute_result",
          "data": {
            "text/plain": [
              "tensor([[ 3,  5],\n",
              "        [10,  5]])"
            ]
          },
          "metadata": {},
          "execution_count": 3
        }
      ]
    },
    {
      "cell_type": "code",
      "source": [
        "# ndarray to tensor : from_numpy() → 2nd cell의 FloatTensor() 사용 가능\n",
        "nd_array_ex=np.array(data)\n",
        "tensor_array=torch.from_numpy(nd_array_ex)\n",
        "tensor_array"
      ],
      "metadata": {
        "colab": {
          "base_uri": "https://localhost:8080/"
        },
        "id": "wPTYej8-IzoQ",
        "outputId": "f30fe057-ff5b-4bfc-b500-e98325681bc6"
      },
      "execution_count": 4,
      "outputs": [
        {
          "output_type": "execute_result",
          "data": {
            "text/plain": [
              "tensor([[ 3,  5],\n",
              "        [10,  5]])"
            ]
          },
          "metadata": {},
          "execution_count": 4
        }
      ]
    },
    {
      "cell_type": "markdown",
      "source": [
        "### Tensor data types\n",
        "\n",
        "- tensor의 데이터 타입은 numpy와 동일하다.\n",
        "- GPU 사용 가능한 data type이 존재한다."
      ],
      "metadata": {
        "id": "IHgesLj4I3e_"
      }
    },
    {
      "cell_type": "markdown",
      "source": [
        "### Numpy like operations"
      ],
      "metadata": {
        "id": "TF3jA7-DI6K5"
      }
    },
    {
      "cell_type": "code",
      "source": [
        "data=[[3,5,20],[10,5,50],[1,5,10]]\n",
        "x_data=torch.tensor(data)\n",
        "x_data"
      ],
      "metadata": {
        "colab": {
          "base_uri": "https://localhost:8080/"
        },
        "id": "GhOMlXupI1Wv",
        "outputId": "6afa7d31-8d8a-403e-9964-182055ecff0e"
      },
      "execution_count": 5,
      "outputs": [
        {
          "output_type": "execute_result",
          "data": {
            "text/plain": [
              "tensor([[ 3,  5, 20],\n",
              "        [10,  5, 50],\n",
              "        [ 1,  5, 10]])"
            ]
          },
          "metadata": {},
          "execution_count": 5
        }
      ]
    },
    {
      "cell_type": "code",
      "source": [
        "# slicing\n",
        "x_data[1:]"
      ],
      "metadata": {
        "colab": {
          "base_uri": "https://localhost:8080/"
        },
        "id": "YuqJxbLZI7nh",
        "outputId": "1027b3ac-fb96-4cf0-cfb5-2644a74bd9a1"
      },
      "execution_count": 6,
      "outputs": [
        {
          "output_type": "execute_result",
          "data": {
            "text/plain": [
              "tensor([[10,  5, 50],\n",
              "        [ 1,  5, 10]])"
            ]
          },
          "metadata": {},
          "execution_count": 6
        }
      ]
    },
    {
      "cell_type": "code",
      "source": [
        "x_data[:2,1:]"
      ],
      "metadata": {
        "colab": {
          "base_uri": "https://localhost:8080/"
        },
        "id": "cL0SJbNiI8qX",
        "outputId": "8923f434-1e2c-4e4e-cb38-0cd2aceae71d"
      },
      "execution_count": 7,
      "outputs": [
        {
          "output_type": "execute_result",
          "data": {
            "text/plain": [
              "tensor([[ 5, 20],\n",
              "        [ 5, 50]])"
            ]
          },
          "metadata": {},
          "execution_count": 7
        }
      ]
    },
    {
      "cell_type": "code",
      "source": [
        "x_data.flatten()"
      ],
      "metadata": {
        "colab": {
          "base_uri": "https://localhost:8080/"
        },
        "id": "dvl8lW7ZI-Ei",
        "outputId": "dc2f8774-5fc6-4b08-c280-b5e8718e4f45"
      },
      "execution_count": 8,
      "outputs": [
        {
          "output_type": "execute_result",
          "data": {
            "text/plain": [
              "tensor([ 3,  5, 20, 10,  5, 50,  1,  5, 10])"
            ]
          },
          "metadata": {},
          "execution_count": 8
        }
      ]
    },
    {
      "cell_type": "code",
      "source": [
        "# 같은 shape의 tensor 만들기\n",
        "torch.ones_like(x_data)"
      ],
      "metadata": {
        "colab": {
          "base_uri": "https://localhost:8080/"
        },
        "id": "MzrctVloI_E2",
        "outputId": "b0ac3c41-e789-41f9-ce7b-f963e5e65533"
      },
      "execution_count": 9,
      "outputs": [
        {
          "output_type": "execute_result",
          "data": {
            "text/plain": [
              "tensor([[1, 1, 1],\n",
              "        [1, 1, 1],\n",
              "        [1, 1, 1]])"
            ]
          },
          "metadata": {},
          "execution_count": 9
        }
      ]
    },
    {
      "cell_type": "code",
      "source": [
        "# tensor to array\n",
        "x_data.numpy()"
      ],
      "metadata": {
        "colab": {
          "base_uri": "https://localhost:8080/"
        },
        "id": "vr5E0GiJJAGJ",
        "outputId": "7aab1709-c230-4e1e-9c57-3ac17a18df57"
      },
      "execution_count": 10,
      "outputs": [
        {
          "output_type": "execute_result",
          "data": {
            "text/plain": [
              "array([[ 3,  5, 20],\n",
              "       [10,  5, 50],\n",
              "       [ 1,  5, 10]])"
            ]
          },
          "metadata": {},
          "execution_count": 10
        }
      ]
    },
    {
      "cell_type": "code",
      "source": [
        "# check shape\n",
        "x_data.shape"
      ],
      "metadata": {
        "colab": {
          "base_uri": "https://localhost:8080/"
        },
        "id": "lyZ0MDscJBsd",
        "outputId": "dfaef5b1-ded7-424a-d3d5-62202e24fbbc"
      },
      "execution_count": 11,
      "outputs": [
        {
          "output_type": "execute_result",
          "data": {
            "text/plain": [
              "torch.Size([3, 3])"
            ]
          },
          "metadata": {},
          "execution_count": 11
        }
      ]
    },
    {
      "cell_type": "code",
      "source": [
        "# check dimension\n",
        "x_data.ndim"
      ],
      "metadata": {
        "colab": {
          "base_uri": "https://localhost:8080/"
        },
        "id": "1jrLkk7dJDWm",
        "outputId": "49f96b36-786b-4d03-e413-c36937c954ff"
      },
      "execution_count": 12,
      "outputs": [
        {
          "output_type": "execute_result",
          "data": {
            "text/plain": [
              "2"
            ]
          },
          "metadata": {},
          "execution_count": 12
        }
      ]
    },
    {
      "cell_type": "code",
      "source": [
        "# check type\n",
        "x_data.dtype"
      ],
      "metadata": {
        "colab": {
          "base_uri": "https://localhost:8080/"
        },
        "id": "Cd83HPCFJEZ5",
        "outputId": "6f35b616-df28-4b1b-e773-698740139521"
      },
      "execution_count": 13,
      "outputs": [
        {
          "output_type": "execute_result",
          "data": {
            "text/plain": [
              "torch.int64"
            ]
          },
          "metadata": {},
          "execution_count": 13
        }
      ]
    },
    {
      "cell_type": "markdown",
      "source": [
        "**pytorch의 tensor는 GPU에 올려서 사용가능**\n",
        "\n",
        "`x_data.device` : x_data를 메모리에 올릴지 GPU에 올릴지 확인하는 property\n",
        "- GPU : cuda\n",
        "- CPU : cpu"
      ],
      "metadata": {
        "id": "sMz5dmIHJGuB"
      }
    },
    {
      "cell_type": "code",
      "source": [
        "x_data.device"
      ],
      "metadata": {
        "colab": {
          "base_uri": "https://localhost:8080/"
        },
        "id": "60oqHBrmJFWX",
        "outputId": "dea74c35-508e-414a-a49a-3680588d81d2"
      },
      "execution_count": 14,
      "outputs": [
        {
          "output_type": "execute_result",
          "data": {
            "text/plain": [
              "device(type='cpu')"
            ]
          },
          "metadata": {},
          "execution_count": 14
        }
      ]
    },
    {
      "cell_type": "code",
      "source": [
        "if torch.cuda.is_available():\n",
        "    x_data_cuda=x_data.to('cuda')\n",
        "\n",
        "x_data_cuda.device"
      ],
      "metadata": {
        "colab": {
          "base_uri": "https://localhost:8080/"
        },
        "id": "9GkWB4-bJIMs",
        "outputId": "bb5406bf-6bd9-4d93-fded-2b1e0f261d93"
      },
      "execution_count": 15,
      "outputs": [
        {
          "output_type": "execute_result",
          "data": {
            "text/plain": [
              "device(type='cuda', index=0)"
            ]
          },
          "metadata": {},
          "execution_count": 15
        }
      ]
    },
    {
      "cell_type": "markdown",
      "source": [
        "### Tensor handling\n",
        "`view` : numpy의 reshape와 동일하게 tensor의 shape를 변환\n",
        "\n",
        "`squeeze` : 차원의 개수가 1인 차원을 삭제(압축)\n",
        "\n",
        "`unsqueeze` : 차원의 개수가 1인 차원을 추가"
      ],
      "metadata": {
        "id": "12mURm39Jpe7"
      }
    },
    {
      "cell_type": "code",
      "source": [
        "tensor_ex=torch.rand(size=(2,3,2))\n",
        "tensor_ex"
      ],
      "metadata": {
        "colab": {
          "base_uri": "https://localhost:8080/"
        },
        "id": "KaHE4mZjJJNZ",
        "outputId": "77eaee27-c23b-4829-e067-24b5134bbb91"
      },
      "execution_count": 16,
      "outputs": [
        {
          "output_type": "execute_result",
          "data": {
            "text/plain": [
              "tensor([[[0.6065, 0.8744],\n",
              "         [0.4677, 0.4870],\n",
              "         [0.9951, 0.8848]],\n",
              "\n",
              "        [[0.2925, 0.8909],\n",
              "         [0.0502, 0.4510],\n",
              "         [0.8878, 0.8466]]])"
            ]
          },
          "metadata": {},
          "execution_count": 16
        }
      ]
    },
    {
      "cell_type": "markdown",
      "source": [
        "#### view()\n",
        "pytorch에서 reshape와 view의 차이\n",
        "- view() : 기존의 데이터와 같은 메모리 공간을 공유하며 stride 크기만 변경하여 보여주기만 다르게 한다. 따라서, contigious 해야만 동작하며 아닌 경우 에러가 발생한다.\n",
        "- reshape() : contiguous tensor에서는 view와 동일하게 작동한다. non-contiguous tensor에서는 data를 copy한다.\n",
        "\n",
        "> **Contiguous vs Noncontiguous**\n",
        "> \n",
        "> - contiguous : Torch의 Array의 값이 연속적인 메모리 위치를 가지는 경우  \n",
        "> - noncontigous : Array의 값이 뒤섞여 메모리 위치를 가지는 경우\n",
        "> \n",
        "> <img src=\"https://blog.kakaocdn.net/dn/dgs983/btrcuJek14h/mLMhSJyZfS2ZdJZX497n90/img.png\" width=400>\n",
        "\n",
        "reference : \n",
        "[Week_3 Pytorch - view vs. reshape](https://memesoo99.tistory.com/50)"
      ],
      "metadata": {
        "id": "pH7J-JGMK4eL"
      }
    },
    {
      "cell_type": "code",
      "source": [
        "tensor_ex.view((-1,6))"
      ],
      "metadata": {
        "colab": {
          "base_uri": "https://localhost:8080/"
        },
        "id": "aYlBx4zpKOLc",
        "outputId": "8bdff46a-fc6a-4afe-fca6-a9e053d99e0c"
      },
      "execution_count": 17,
      "outputs": [
        {
          "output_type": "execute_result",
          "data": {
            "text/plain": [
              "tensor([[0.6065, 0.8744, 0.4677, 0.4870, 0.9951, 0.8848],\n",
              "        [0.2925, 0.8909, 0.0502, 0.4510, 0.8878, 0.8466]])"
            ]
          },
          "metadata": {},
          "execution_count": 17
        }
      ]
    },
    {
      "cell_type": "code",
      "source": [
        "tensor_ex.reshape((-1,6))"
      ],
      "metadata": {
        "colab": {
          "base_uri": "https://localhost:8080/"
        },
        "id": "Qci4FMaJKUtK",
        "outputId": "e118e89a-799b-4739-80cb-9799bdee235c"
      },
      "execution_count": 18,
      "outputs": [
        {
          "output_type": "execute_result",
          "data": {
            "text/plain": [
              "tensor([[0.6065, 0.8744, 0.4677, 0.4870, 0.9951, 0.8848],\n",
              "        [0.2925, 0.8909, 0.0502, 0.4510, 0.8878, 0.8466]])"
            ]
          },
          "metadata": {},
          "execution_count": 18
        }
      ]
    },
    {
      "cell_type": "code",
      "source": [
        "a=torch.zeros(3,2)\n",
        "b=a.view(2,3)\n",
        "a.fill_(1)"
      ],
      "metadata": {
        "colab": {
          "base_uri": "https://localhost:8080/"
        },
        "id": "MJha-OF3KaEX",
        "outputId": "f5bc4c62-ffce-4c4b-e3db-7cd43e3064ea"
      },
      "execution_count": 19,
      "outputs": [
        {
          "output_type": "execute_result",
          "data": {
            "text/plain": [
              "tensor([[1., 1.],\n",
              "        [1., 1.],\n",
              "        [1., 1.]])"
            ]
          },
          "metadata": {},
          "execution_count": 19
        }
      ]
    },
    {
      "cell_type": "code",
      "source": [
        "a"
      ],
      "metadata": {
        "colab": {
          "base_uri": "https://localhost:8080/"
        },
        "id": "G00IMRLnKqLk",
        "outputId": "323a540f-e00d-45d9-8193-db6ff51907b6"
      },
      "execution_count": 20,
      "outputs": [
        {
          "output_type": "execute_result",
          "data": {
            "text/plain": [
              "tensor([[1., 1.],\n",
              "        [1., 1.],\n",
              "        [1., 1.]])"
            ]
          },
          "metadata": {},
          "execution_count": 20
        }
      ]
    },
    {
      "cell_type": "code",
      "source": [
        "b"
      ],
      "metadata": {
        "colab": {
          "base_uri": "https://localhost:8080/"
        },
        "id": "WewOlYT_KtIB",
        "outputId": "dcfba505-4408-4b4d-cd23-67001a3fa9e2"
      },
      "execution_count": 21,
      "outputs": [
        {
          "output_type": "execute_result",
          "data": {
            "text/plain": [
              "tensor([[1., 1., 1.],\n",
              "        [1., 1., 1.]])"
            ]
          },
          "metadata": {},
          "execution_count": 21
        }
      ]
    },
    {
      "cell_type": "code",
      "source": [
        "a=torch.zeros(3,2)\n",
        "b=a.t().reshape(6)\n",
        "a.fill_(1)"
      ],
      "metadata": {
        "colab": {
          "base_uri": "https://localhost:8080/"
        },
        "id": "HhU6lPKCKtsW",
        "outputId": "82bfabb6-b941-4734-9e86-397ba57dfea6"
      },
      "execution_count": 22,
      "outputs": [
        {
          "output_type": "execute_result",
          "data": {
            "text/plain": [
              "tensor([[1., 1.],\n",
              "        [1., 1.],\n",
              "        [1., 1.]])"
            ]
          },
          "metadata": {},
          "execution_count": 22
        }
      ]
    },
    {
      "cell_type": "code",
      "source": [
        "a"
      ],
      "metadata": {
        "colab": {
          "base_uri": "https://localhost:8080/"
        },
        "id": "Rww9oYJcLNGM",
        "outputId": "5050f3ff-298e-4e66-f6ae-80aa9c9585d0"
      },
      "execution_count": 23,
      "outputs": [
        {
          "output_type": "execute_result",
          "data": {
            "text/plain": [
              "tensor([[1., 1.],\n",
              "        [1., 1.],\n",
              "        [1., 1.]])"
            ]
          },
          "metadata": {},
          "execution_count": 23
        }
      ]
    },
    {
      "cell_type": "code",
      "source": [
        "b"
      ],
      "metadata": {
        "colab": {
          "base_uri": "https://localhost:8080/"
        },
        "id": "G2GtrF6nLNYq",
        "outputId": "6c81d8c7-efee-483b-ef53-28fb5cc92d4f"
      },
      "execution_count": 24,
      "outputs": [
        {
          "output_type": "execute_result",
          "data": {
            "text/plain": [
              "tensor([0., 0., 0., 0., 0., 0.])"
            ]
          },
          "metadata": {},
          "execution_count": 24
        }
      ]
    },
    {
      "cell_type": "markdown",
      "source": [
        "#### squeeze(), unsqueeze()\n",
        "\n",
        "<img src=\"https://i.stack.imgur.com/9AJJA.png\" width=400>"
      ],
      "metadata": {
        "id": "9csz8h06RKFG"
      }
    },
    {
      "cell_type": "code",
      "source": [
        "tensor_ex=torch.rand(size=(2,1,2))\n",
        "print(f\"before squeezing : \\n{tensor_ex}\\nafter squeezing : \\n{tensor_ex.squeeze()}\")"
      ],
      "metadata": {
        "colab": {
          "base_uri": "https://localhost:8080/"
        },
        "id": "x7nxqRykQf4J",
        "outputId": "47ea6424-84d8-4fc5-b588-95eee1680979"
      },
      "execution_count": 25,
      "outputs": [
        {
          "output_type": "stream",
          "name": "stdout",
          "text": [
            "before squeezing : \n",
            "tensor([[[0.9101, 0.8124]],\n",
            "\n",
            "        [[0.3238, 0.2744]]])\n",
            "after squeezing : \n",
            "tensor([[0.9101, 0.8124],\n",
            "        [0.3238, 0.2744]])\n"
          ]
        }
      ]
    },
    {
      "cell_type": "code",
      "source": [
        "tensor_ex=torch.rand(size=(2,2))\n",
        "print(f\"before unsqueeze(0) : \\n{tensor_ex.shape}\\nafter unsqueeze(0) : \\n{tensor_ex.unsqueeze(0).shape}\")"
      ],
      "metadata": {
        "colab": {
          "base_uri": "https://localhost:8080/"
        },
        "id": "trJifvZWR-cS",
        "outputId": "9b1b3c08-c6b9-4ac0-9ae8-d47900af3055"
      },
      "execution_count": 26,
      "outputs": [
        {
          "output_type": "stream",
          "name": "stdout",
          "text": [
            "before unsqueeze(0) : \n",
            "torch.Size([2, 2])\n",
            "after unsqueeze(0) : \n",
            "torch.Size([1, 2, 2])\n"
          ]
        }
      ]
    },
    {
      "cell_type": "code",
      "source": [
        "tensor_ex=torch.rand(size=(2,2))\n",
        "print(f\"before unsqueeze(1) : \\n{tensor_ex.shape}\\nafter unsqueeze(1) : \\n{tensor_ex.unsqueeze(1).shape}\")"
      ],
      "metadata": {
        "colab": {
          "base_uri": "https://localhost:8080/"
        },
        "id": "WXtCSPRRSC82",
        "outputId": "bf170317-b04a-4548-c4bf-3dfcec1acdee"
      },
      "execution_count": 27,
      "outputs": [
        {
          "output_type": "stream",
          "name": "stdout",
          "text": [
            "before unsqueeze(1) : \n",
            "torch.Size([2, 2])\n",
            "after unsqueeze(1) : \n",
            "torch.Size([2, 1, 2])\n"
          ]
        }
      ]
    },
    {
      "cell_type": "code",
      "source": [
        "tensor_ex=torch.rand(size=(2,2))\n",
        "print(f\"before unsqueeze(1) : \\n{tensor_ex.shape}\\nafter unsqueeze(2) : \\n{tensor_ex.unsqueeze(2).shape}\")"
      ],
      "metadata": {
        "colab": {
          "base_uri": "https://localhost:8080/"
        },
        "id": "LxCG-98KS-9D",
        "outputId": "728d772d-47d6-4f17-aa16-655e643fcda1"
      },
      "execution_count": 28,
      "outputs": [
        {
          "output_type": "stream",
          "name": "stdout",
          "text": [
            "before unsqueeze(1) : \n",
            "torch.Size([2, 2])\n",
            "after unsqueeze(2) : \n",
            "torch.Size([2, 2, 1])\n"
          ]
        }
      ]
    },
    {
      "cell_type": "markdown",
      "source": [
        "### Tensor Operations"
      ],
      "metadata": {
        "id": "0M6aHcDwTTbr"
      }
    },
    {
      "cell_type": "code",
      "source": [
        "n1=np.arange(10).reshape(2,5)\n",
        "n2=np.arange(10).reshape(5,2)\n",
        "t1=torch.FloatTensor(n1)\n",
        "t2=torch.FloatTensor(n2)"
      ],
      "metadata": {
        "id": "QIKDwhvBTECK"
      },
      "execution_count": 29,
      "outputs": []
    },
    {
      "cell_type": "code",
      "source": [
        "t1"
      ],
      "metadata": {
        "colab": {
          "base_uri": "https://localhost:8080/"
        },
        "id": "jCjwM3U6Tjhc",
        "outputId": "770a1736-11aa-4b87-982c-2ede86fec9ee"
      },
      "execution_count": 30,
      "outputs": [
        {
          "output_type": "execute_result",
          "data": {
            "text/plain": [
              "tensor([[0., 1., 2., 3., 4.],\n",
              "        [5., 6., 7., 8., 9.]])"
            ]
          },
          "metadata": {},
          "execution_count": 30
        }
      ]
    },
    {
      "cell_type": "code",
      "source": [
        "t2"
      ],
      "metadata": {
        "colab": {
          "base_uri": "https://localhost:8080/"
        },
        "id": "XksHeum9TlZJ",
        "outputId": "0ec7d3f2-192e-4208-d88d-ae0be71f740e"
      },
      "execution_count": 31,
      "outputs": [
        {
          "output_type": "execute_result",
          "data": {
            "text/plain": [
              "tensor([[0., 1.],\n",
              "        [2., 3.],\n",
              "        [4., 5.],\n",
              "        [6., 7.],\n",
              "        [8., 9.]])"
            ]
          },
          "metadata": {},
          "execution_count": 31
        }
      ]
    },
    {
      "cell_type": "code",
      "source": [
        "t1+t1"
      ],
      "metadata": {
        "colab": {
          "base_uri": "https://localhost:8080/"
        },
        "id": "FaCsbnULTmD4",
        "outputId": "b26fbebe-bd85-4b23-a490-e89faa6c29fe"
      },
      "execution_count": 32,
      "outputs": [
        {
          "output_type": "execute_result",
          "data": {
            "text/plain": [
              "tensor([[ 0.,  2.,  4.,  6.,  8.],\n",
              "        [10., 12., 14., 16., 18.]])"
            ]
          },
          "metadata": {},
          "execution_count": 32
        }
      ]
    },
    {
      "cell_type": "code",
      "source": [
        "t1-t1"
      ],
      "metadata": {
        "colab": {
          "base_uri": "https://localhost:8080/"
        },
        "id": "W_MGjEB0Tnpp",
        "outputId": "d8f20a4d-9cd1-4d1f-cb89-da4a5c688f00"
      },
      "execution_count": 33,
      "outputs": [
        {
          "output_type": "execute_result",
          "data": {
            "text/plain": [
              "tensor([[0., 0., 0., 0., 0.],\n",
              "        [0., 0., 0., 0., 0.]])"
            ]
          },
          "metadata": {},
          "execution_count": 33
        }
      ]
    },
    {
      "cell_type": "code",
      "source": [
        "t1+10"
      ],
      "metadata": {
        "colab": {
          "base_uri": "https://localhost:8080/"
        },
        "id": "vqy9CLqVTwPY",
        "outputId": "4de893b2-d624-41e4-863b-0259be165568"
      },
      "execution_count": 34,
      "outputs": [
        {
          "output_type": "execute_result",
          "data": {
            "text/plain": [
              "tensor([[10., 11., 12., 13., 14.],\n",
              "        [15., 16., 17., 18., 19.]])"
            ]
          },
          "metadata": {},
          "execution_count": 34
        }
      ]
    },
    {
      "cell_type": "markdown",
      "source": [
        "- **행렬곱셈 연산**은 dot이 아닌 mm 사용"
      ],
      "metadata": {
        "id": "vpatLawET2ja"
      }
    },
    {
      "cell_type": "code",
      "source": [
        "t1.mm(t2)"
      ],
      "metadata": {
        "colab": {
          "base_uri": "https://localhost:8080/"
        },
        "id": "_8CuiCoLTyif",
        "outputId": "821c80ec-c65a-4eaa-8585-905510c3cd7e"
      },
      "execution_count": 35,
      "outputs": [
        {
          "output_type": "execute_result",
          "data": {
            "text/plain": [
              "tensor([[ 60.,  70.],\n",
              "        [160., 195.]])"
            ]
          },
          "metadata": {},
          "execution_count": 35
        }
      ]
    },
    {
      "cell_type": "code",
      "source": [
        "t1.dot(t2)"
      ],
      "metadata": {
        "colab": {
          "base_uri": "https://localhost:8080/",
          "height": 176
        },
        "id": "UhZujta_UO9S",
        "outputId": "e340fca2-2362-4704-bd4b-1f4c293705df"
      },
      "execution_count": 36,
      "outputs": [
        {
          "output_type": "error",
          "ename": "RuntimeError",
          "evalue": "ignored",
          "traceback": [
            "\u001b[0;31m---------------------------------------------------------------------------\u001b[0m",
            "\u001b[0;31mRuntimeError\u001b[0m                              Traceback (most recent call last)",
            "\u001b[0;32m<ipython-input-36-e9d95797f0ac>\u001b[0m in \u001b[0;36m<module>\u001b[0;34m()\u001b[0m\n\u001b[0;32m----> 1\u001b[0;31m \u001b[0mt1\u001b[0m\u001b[0;34m.\u001b[0m\u001b[0mdot\u001b[0m\u001b[0;34m(\u001b[0m\u001b[0mt2\u001b[0m\u001b[0;34m)\u001b[0m\u001b[0;34m\u001b[0m\u001b[0;34m\u001b[0m\u001b[0m\n\u001b[0m",
            "\u001b[0;31mRuntimeError\u001b[0m: 1D tensors expected, but got 2D and 2D tensors"
          ]
        }
      ]
    },
    {
      "cell_type": "code",
      "source": [
        "t1.matmul(t2)"
      ],
      "metadata": {
        "colab": {
          "base_uri": "https://localhost:8080/"
        },
        "id": "KWeUxD8RUQhg",
        "outputId": "e9c4ff00-f8dd-4a9c-d1e0-1dc815a15c3f"
      },
      "execution_count": 37,
      "outputs": [
        {
          "output_type": "execute_result",
          "data": {
            "text/plain": [
              "tensor([[ 60.,  70.],\n",
              "        [160., 195.]])"
            ]
          },
          "metadata": {},
          "execution_count": 37
        }
      ]
    },
    {
      "cell_type": "markdown",
      "source": [
        "- **벡터 및 스칼라 곱셈 연산**은 mm이 아닌 dot 사용"
      ],
      "metadata": {
        "id": "417UKWLaUp_s"
      }
    },
    {
      "cell_type": "code",
      "source": [
        "a=torch.rand(10)\n",
        "b=torch.rand(10) "
      ],
      "metadata": {
        "id": "ZblnPLfwUVLc"
      },
      "execution_count": 38,
      "outputs": []
    },
    {
      "cell_type": "code",
      "source": [
        "a.dot(b)"
      ],
      "metadata": {
        "colab": {
          "base_uri": "https://localhost:8080/"
        },
        "id": "m3oFbdiUU0bF",
        "outputId": "ef21281d-2ad3-4900-d3b8-eacff13470fb"
      },
      "execution_count": 39,
      "outputs": [
        {
          "output_type": "execute_result",
          "data": {
            "text/plain": [
              "tensor(3.5159)"
            ]
          },
          "metadata": {},
          "execution_count": 39
        }
      ]
    },
    {
      "cell_type": "code",
      "source": [
        "a.mm(b)"
      ],
      "metadata": {
        "colab": {
          "base_uri": "https://localhost:8080/",
          "height": 176
        },
        "id": "8Aqw3O1fU1ad",
        "outputId": "b53a4cea-b22d-4cba-f23d-b23e96f8f19b"
      },
      "execution_count": 40,
      "outputs": [
        {
          "output_type": "error",
          "ename": "RuntimeError",
          "evalue": "ignored",
          "traceback": [
            "\u001b[0;31m---------------------------------------------------------------------------\u001b[0m",
            "\u001b[0;31mRuntimeError\u001b[0m                              Traceback (most recent call last)",
            "\u001b[0;32m<ipython-input-40-017c9bfe91b4>\u001b[0m in \u001b[0;36m<module>\u001b[0;34m()\u001b[0m\n\u001b[0;32m----> 1\u001b[0;31m \u001b[0ma\u001b[0m\u001b[0;34m.\u001b[0m\u001b[0mmm\u001b[0m\u001b[0;34m(\u001b[0m\u001b[0mb\u001b[0m\u001b[0;34m)\u001b[0m\u001b[0;34m\u001b[0m\u001b[0;34m\u001b[0m\u001b[0m\n\u001b[0m",
            "\u001b[0;31mRuntimeError\u001b[0m: self must be a matrix"
          ]
        }
      ]
    },
    {
      "cell_type": "markdown",
      "source": [
        "- matmul은 broadingcasting 지원"
      ],
      "metadata": {
        "id": "kQ490V2pVI_u"
      }
    },
    {
      "cell_type": "code",
      "source": [
        "a.matmul(b)"
      ],
      "metadata": {
        "colab": {
          "base_uri": "https://localhost:8080/"
        },
        "id": "98CPjRQEU21v",
        "outputId": "2fc55408-b9b5-4e90-b0b8-04794eef92dd"
      },
      "execution_count": 41,
      "outputs": [
        {
          "output_type": "execute_result",
          "data": {
            "text/plain": [
              "tensor(3.5159)"
            ]
          },
          "metadata": {},
          "execution_count": 41
        }
      ]
    },
    {
      "cell_type": "code",
      "source": [
        "a=torch.rand(5,2,3)\n",
        "b=torch.rand(3)"
      ],
      "metadata": {
        "id": "2MEJQS2cU5Hh"
      },
      "execution_count": 42,
      "outputs": []
    },
    {
      "cell_type": "code",
      "source": [
        "a"
      ],
      "metadata": {
        "colab": {
          "base_uri": "https://localhost:8080/"
        },
        "id": "vkiGS3mWVYnj",
        "outputId": "450ca43a-6780-4974-ad38-f1a86916fecf"
      },
      "execution_count": 43,
      "outputs": [
        {
          "output_type": "execute_result",
          "data": {
            "text/plain": [
              "tensor([[[0.0099, 0.4479, 0.2278],\n",
              "         [0.0149, 0.3185, 0.1659]],\n",
              "\n",
              "        [[0.3220, 0.6110, 0.2847],\n",
              "         [0.2368, 0.7291, 0.3863]],\n",
              "\n",
              "        [[0.0046, 0.8218, 0.9926],\n",
              "         [0.4649, 0.0434, 0.7985]],\n",
              "\n",
              "        [[0.5856, 0.4211, 0.3403],\n",
              "         [0.0330, 0.2954, 0.8606]],\n",
              "\n",
              "        [[0.6048, 0.1355, 0.6929],\n",
              "         [0.6046, 0.1465, 0.6185]]])"
            ]
          },
          "metadata": {},
          "execution_count": 43
        }
      ]
    },
    {
      "cell_type": "code",
      "source": [
        "b"
      ],
      "metadata": {
        "colab": {
          "base_uri": "https://localhost:8080/"
        },
        "id": "QsOioK1dVZBH",
        "outputId": "93271aab-872a-4f3d-b72a-8e1b36caa11a"
      },
      "execution_count": 44,
      "outputs": [
        {
          "output_type": "execute_result",
          "data": {
            "text/plain": [
              "tensor([0.5853, 0.6673, 0.1854])"
            ]
          },
          "metadata": {},
          "execution_count": 44
        }
      ]
    },
    {
      "cell_type": "code",
      "source": [
        "a.mm(b)"
      ],
      "metadata": {
        "colab": {
          "base_uri": "https://localhost:8080/",
          "height": 176
        },
        "id": "RUzIfUbWVZbE",
        "outputId": "5d9b2608-3d1a-4c5e-c90a-06dd527c3162"
      },
      "execution_count": 45,
      "outputs": [
        {
          "output_type": "error",
          "ename": "RuntimeError",
          "evalue": "ignored",
          "traceback": [
            "\u001b[0;31m---------------------------------------------------------------------------\u001b[0m",
            "\u001b[0;31mRuntimeError\u001b[0m                              Traceback (most recent call last)",
            "\u001b[0;32m<ipython-input-45-017c9bfe91b4>\u001b[0m in \u001b[0;36m<module>\u001b[0;34m()\u001b[0m\n\u001b[0;32m----> 1\u001b[0;31m \u001b[0ma\u001b[0m\u001b[0;34m.\u001b[0m\u001b[0mmm\u001b[0m\u001b[0;34m(\u001b[0m\u001b[0mb\u001b[0m\u001b[0;34m)\u001b[0m\u001b[0;34m\u001b[0m\u001b[0;34m\u001b[0m\u001b[0m\n\u001b[0m",
            "\u001b[0;31mRuntimeError\u001b[0m: self must be a matrix"
          ]
        }
      ]
    },
    {
      "cell_type": "code",
      "source": [
        "a.matmul(b)"
      ],
      "metadata": {
        "colab": {
          "base_uri": "https://localhost:8080/"
        },
        "id": "wYgCXYx2VaSe",
        "outputId": "d51b08d6-2389-4d8c-b0ee-b7993a2760b7"
      },
      "execution_count": 46,
      "outputs": [
        {
          "output_type": "execute_result",
          "data": {
            "text/plain": [
              "tensor([[0.3469, 0.2520],\n",
              "        [0.6490, 0.6968],\n",
              "        [0.7351, 0.4491],\n",
              "        [0.6868, 0.3760],\n",
              "        [0.5728, 0.5663]])"
            ]
          },
          "metadata": {},
          "execution_count": 46
        }
      ]
    },
    {
      "cell_type": "code",
      "source": [
        "# mm의 broadcasting 확인\n",
        "print(a[0].mm(torch.unsqueeze(b,1)).squeeze())\n",
        "print(a[1].mm(torch.unsqueeze(b,1)).squeeze())\n",
        "print(a[2].mm(torch.unsqueeze(b,1)).squeeze())\n",
        "print(a[3].mm(torch.unsqueeze(b,1)).squeeze())\n",
        "print(a[4].mm(torch.unsqueeze(b,1)).squeeze())"
      ],
      "metadata": {
        "colab": {
          "base_uri": "https://localhost:8080/"
        },
        "id": "uldef-HCVcAM",
        "outputId": "231af675-18ef-40f5-9849-867763cdeb1e"
      },
      "execution_count": 47,
      "outputs": [
        {
          "output_type": "stream",
          "name": "stdout",
          "text": [
            "tensor([0.3469, 0.2520])\n",
            "tensor([0.6490, 0.6968])\n",
            "tensor([0.7351, 0.4491])\n",
            "tensor([0.6868, 0.3760])\n",
            "tensor([0.5728, 0.5663])\n"
          ]
        }
      ]
    },
    {
      "cell_type": "markdown",
      "source": [
        "### Tensor operations for ML/DL formula\n",
        "`nn.functional` 모듈"
      ],
      "metadata": {
        "id": "BYxoMf2AWqge"
      }
    },
    {
      "cell_type": "code",
      "source": [
        "import torch\n",
        "import torch.nn.functional as F\n",
        "\n",
        "tensor=torch.FloatTensor([0.5,0.7,0.1])\n",
        "h_tensor=F.softmax(tensor, dim=0)\n",
        "h_tensor"
      ],
      "metadata": {
        "colab": {
          "base_uri": "https://localhost:8080/"
        },
        "id": "QIBHnk9uWOt8",
        "outputId": "36c29031-dff4-4d70-b21a-443677e2e025"
      },
      "execution_count": 48,
      "outputs": [
        {
          "output_type": "execute_result",
          "data": {
            "text/plain": [
              "tensor([0.3458, 0.4224, 0.2318])"
            ]
          },
          "metadata": {},
          "execution_count": 48
        }
      ]
    },
    {
      "cell_type": "code",
      "source": [
        "y=torch.randint(5,(10,5))\n",
        "print(y)\n",
        "y_label=y.argmax(dim=1)\n",
        "y_label"
      ],
      "metadata": {
        "colab": {
          "base_uri": "https://localhost:8080/"
        },
        "id": "Y5yoaZmSXJFk",
        "outputId": "8b9496c8-3423-45ab-8c3f-27f60f331218"
      },
      "execution_count": 49,
      "outputs": [
        {
          "output_type": "stream",
          "name": "stdout",
          "text": [
            "tensor([[2, 0, 4, 2, 2],\n",
            "        [3, 2, 0, 0, 4],\n",
            "        [4, 3, 1, 0, 0],\n",
            "        [1, 0, 0, 0, 3],\n",
            "        [0, 2, 3, 3, 1],\n",
            "        [4, 0, 2, 3, 1],\n",
            "        [2, 1, 2, 2, 3],\n",
            "        [3, 0, 1, 3, 4],\n",
            "        [3, 4, 0, 2, 2],\n",
            "        [4, 3, 3, 1, 2]])\n"
          ]
        },
        {
          "output_type": "execute_result",
          "data": {
            "text/plain": [
              "tensor([2, 4, 0, 4, 2, 0, 4, 4, 1, 0])"
            ]
          },
          "metadata": {},
          "execution_count": 49
        }
      ]
    },
    {
      "cell_type": "code",
      "source": [
        "F.one_hot(y_label)"
      ],
      "metadata": {
        "colab": {
          "base_uri": "https://localhost:8080/"
        },
        "id": "cqyijPoPXSZg",
        "outputId": "f52a6e89-a8ef-4389-a4eb-b8b36bd5263c"
      },
      "execution_count": 50,
      "outputs": [
        {
          "output_type": "execute_result",
          "data": {
            "text/plain": [
              "tensor([[0, 0, 1, 0, 0],\n",
              "        [0, 0, 0, 0, 1],\n",
              "        [1, 0, 0, 0, 0],\n",
              "        [0, 0, 0, 0, 1],\n",
              "        [0, 0, 1, 0, 0],\n",
              "        [1, 0, 0, 0, 0],\n",
              "        [0, 0, 0, 0, 1],\n",
              "        [0, 0, 0, 0, 1],\n",
              "        [0, 1, 0, 0, 0],\n",
              "        [1, 0, 0, 0, 0]])"
            ]
          },
          "metadata": {},
          "execution_count": 50
        }
      ]
    },
    {
      "cell_type": "code",
      "source": [
        "import itertools\n",
        "a=[1,2,3]\n",
        "b=[4,5]\n",
        "list(itertools.product(a,b))"
      ],
      "metadata": {
        "colab": {
          "base_uri": "https://localhost:8080/"
        },
        "id": "egiqRSfoXcyP",
        "outputId": "b7206ce8-5316-4ff8-c628-331aebfb9960"
      },
      "execution_count": 51,
      "outputs": [
        {
          "output_type": "execute_result",
          "data": {
            "text/plain": [
              "[(1, 4), (1, 5), (2, 4), (2, 5), (3, 4), (3, 5)]"
            ]
          },
          "metadata": {},
          "execution_count": 51
        }
      ]
    },
    {
      "cell_type": "code",
      "source": [
        "tensor_a=torch.tensor(a)\n",
        "tensor_b=torch.tensor(b)\n",
        "torch.cartesian_prod(tensor_a,tensor_b)"
      ],
      "metadata": {
        "colab": {
          "base_uri": "https://localhost:8080/"
        },
        "id": "SVk8B1DkXskq",
        "outputId": "e6b46c17-a36e-411f-9711-388f55648c9d"
      },
      "execution_count": 52,
      "outputs": [
        {
          "output_type": "stream",
          "name": "stderr",
          "text": [
            "/usr/local/lib/python3.7/dist-packages/torch/functional.py:1069: UserWarning: torch.meshgrid: in an upcoming release, it will be required to pass the indexing argument. (Triggered internally at  ../aten/src/ATen/native/TensorShape.cpp:2157.)\n",
            "  return _VF.cartesian_prod(tensors)  # type: ignore[attr-defined]\n"
          ]
        },
        {
          "output_type": "execute_result",
          "data": {
            "text/plain": [
              "tensor([[1, 4],\n",
              "        [1, 5],\n",
              "        [2, 4],\n",
              "        [2, 5],\n",
              "        [3, 4],\n",
              "        [3, 5]])"
            ]
          },
          "metadata": {},
          "execution_count": 52
        }
      ]
    },
    {
      "cell_type": "markdown",
      "source": [
        "### AutoGrad\n",
        "\n",
        "$$ y={w}^{2}$$\n",
        "$$z=10*y+25$$\n",
        "$$z=10*{w}^2+25$$"
      ],
      "metadata": {
        "id": "_3ZO-NftYC_L"
      }
    },
    {
      "cell_type": "code",
      "source": [
        "w=torch.tensor(2., requires_grad=True)\n",
        "y=w**2\n",
        "z=10*y+25\n",
        "z.backward()\n",
        "w.grad"
      ],
      "metadata": {
        "colab": {
          "base_uri": "https://localhost:8080/"
        },
        "id": "4mB7XmyLX7L3",
        "outputId": "3f3a1a20-3bd1-4169-9cf5-205908802abe"
      },
      "execution_count": 53,
      "outputs": [
        {
          "output_type": "execute_result",
          "data": {
            "text/plain": [
              "tensor(40.)"
            ]
          },
          "metadata": {},
          "execution_count": 53
        }
      ]
    },
    {
      "cell_type": "markdown",
      "source": [
        "$$Q=3a^3-b^2$$"
      ],
      "metadata": {
        "id": "ji0thQrcZWuz"
      }
    },
    {
      "cell_type": "code",
      "source": [
        "a=torch.tensor([2.,3.], requires_grad=True)\n",
        "b=torch.tensor([6.,4.],requires_grad=True)\n",
        "Q=3*a**3-b**2\n",
        "# Q는 벡터이므로 Q.backward()의 gradient 인자를 명시적으로 전달해야한다.\n",
        "external_grad=torch.tensor([1.,1.])\n",
        "Q.backward(gradient=external_grad)"
      ],
      "metadata": {
        "id": "j3BHCQ4HZE6n"
      },
      "execution_count": 54,
      "outputs": []
    },
    {
      "cell_type": "code",
      "source": [
        "a.grad"
      ],
      "metadata": {
        "colab": {
          "base_uri": "https://localhost:8080/"
        },
        "id": "-nONKhEiZ9pY",
        "outputId": "856a3ac3-4060-4ea6-edc8-1219c53d7bb2"
      },
      "execution_count": 55,
      "outputs": [
        {
          "output_type": "execute_result",
          "data": {
            "text/plain": [
              "tensor([36., 81.])"
            ]
          },
          "metadata": {},
          "execution_count": 55
        }
      ]
    },
    {
      "cell_type": "code",
      "source": [
        "b.grad"
      ],
      "metadata": {
        "colab": {
          "base_uri": "https://localhost:8080/"
        },
        "id": "S84zyvBPZ-x5",
        "outputId": "b133a514-495a-44f7-ff01-0b1b8c916304"
      },
      "execution_count": 56,
      "outputs": [
        {
          "output_type": "execute_result",
          "data": {
            "text/plain": [
              "tensor([-12.,  -8.])"
            ]
          },
          "metadata": {},
          "execution_count": 56
        }
      ]
    }
  ]
}