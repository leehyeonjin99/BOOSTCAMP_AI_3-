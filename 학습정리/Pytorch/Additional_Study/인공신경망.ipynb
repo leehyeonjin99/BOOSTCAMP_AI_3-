{
  "nbformat": 4,
  "nbformat_minor": 0,
  "metadata": {
    "colab": {
      "name": "인공신경망.ipynb",
      "provenance": [],
      "authorship_tag": "ABX9TyOVBzzptztKcnUTeUgx0eH7",
      "include_colab_link": true
    },
    "kernelspec": {
      "name": "python3",
      "display_name": "Python 3"
    },
    "language_info": {
      "name": "python"
    },
    "accelerator": "GPU"
  },
  "cells": [
    {
      "cell_type": "markdown",
      "metadata": {
        "id": "view-in-github",
        "colab_type": "text"
      },
      "source": [
        "<a href=\"https://colab.research.google.com/github/leehyeonjin99/BOOSTCAMP_AI_Tech_Study_Diary/blob/main/%ED%95%99%EC%8A%B5%EC%A0%95%EB%A6%AC/Pytorch/Additional_Study/%EC%9D%B8%EA%B3%B5%EC%8B%A0%EA%B2%BD%EB%A7%9D.ipynb\" target=\"_parent\"><img src=\"https://colab.research.google.com/assets/colab-badge.svg\" alt=\"Open In Colab\"/></a>"
      ]
    },
    {
      "cell_type": "code",
      "execution_count": 1,
      "metadata": {
        "id": "CUio5z2ohROD"
      },
      "outputs": [],
      "source": [
        "## XOR 문제 : 단층 퍼셉트론 구현하기\n",
        "import torch\n",
        "\n",
        "device='cuda' if torch.cuda.is_available() else 'cpu'\n",
        "torch.manual_seed(777)\n",
        "if device=='cuda':\n",
        "  torch.cuda.manual_seed_all(777)"
      ]
    },
    {
      "cell_type": "code",
      "source": [
        "X=torch.FloatTensor([[0,0],[0,1],[1,0],[1,1]]).to(device)\n",
        "y=torch.FloatTensor([[0],[1],[1],[0]]).to(device)"
      ],
      "metadata": {
        "id": "XNwHxYuVjMwt"
      },
      "execution_count": 2,
      "outputs": []
    },
    {
      "cell_type": "code",
      "source": [
        "linear=torch.nn.Linear(2,1,bias=True)\n",
        "sigmoid=torch.nn.Sigmoid()\n",
        "model=torch.nn.Sequential(linear,sigmoid).to(device)"
      ],
      "metadata": {
        "id": "zNTEVVMckHqu"
      },
      "execution_count": 3,
      "outputs": []
    },
    {
      "cell_type": "code",
      "source": [
        "criterion=torch.nn.BCELoss().to(device)\n",
        "optimizer=torch.optim.SGD(model.parameters(),lr=1)"
      ],
      "metadata": {
        "id": "E778C011kXQ_"
      },
      "execution_count": 4,
      "outputs": []
    },
    {
      "cell_type": "code",
      "source": [
        "epochs=10000\n",
        "for epoch in range(epochs+1):\n",
        "  hypothesis=model(X)\n",
        "  cost=criterion(hypothesis, y)\n",
        "\n",
        "  optimizer.zero_grad()\n",
        "  cost.backward()\n",
        "  optimizer.step()\n",
        "\n",
        "  if epoch%100==0:\n",
        "    print(epoch, cost.item())"
      ],
      "metadata": {
        "colab": {
          "base_uri": "https://localhost:8080/"
        },
        "id": "ZSNAbv6xkqml",
        "outputId": "cefdb066-f241-4ff6-9541-e0dbd34fba3c"
      },
      "execution_count": 5,
      "outputs": [
        {
          "output_type": "stream",
          "name": "stdout",
          "text": [
            "0 0.7273974418640137\n",
            "100 0.6931475400924683\n",
            "200 0.6931471824645996\n",
            "300 0.6931471824645996\n",
            "400 0.6931471824645996\n",
            "500 0.6931471824645996\n",
            "600 0.6931471824645996\n",
            "700 0.6931471824645996\n",
            "800 0.6931471824645996\n",
            "900 0.6931471824645996\n",
            "1000 0.6931471824645996\n",
            "1100 0.6931471824645996\n",
            "1200 0.6931471824645996\n",
            "1300 0.6931471824645996\n",
            "1400 0.6931471824645996\n",
            "1500 0.6931471824645996\n",
            "1600 0.6931471824645996\n",
            "1700 0.6931471824645996\n",
            "1800 0.6931471824645996\n",
            "1900 0.6931471824645996\n",
            "2000 0.6931471824645996\n",
            "2100 0.6931471824645996\n",
            "2200 0.6931471824645996\n",
            "2300 0.6931471824645996\n",
            "2400 0.6931471824645996\n",
            "2500 0.6931471824645996\n",
            "2600 0.6931471824645996\n",
            "2700 0.6931471824645996\n",
            "2800 0.6931471824645996\n",
            "2900 0.6931471824645996\n",
            "3000 0.6931471824645996\n",
            "3100 0.6931471824645996\n",
            "3200 0.6931471824645996\n",
            "3300 0.6931471824645996\n",
            "3400 0.6931471824645996\n",
            "3500 0.6931471824645996\n",
            "3600 0.6931471824645996\n",
            "3700 0.6931471824645996\n",
            "3800 0.6931471824645996\n",
            "3900 0.6931471824645996\n",
            "4000 0.6931471824645996\n",
            "4100 0.6931471824645996\n",
            "4200 0.6931471824645996\n",
            "4300 0.6931471824645996\n",
            "4400 0.6931471824645996\n",
            "4500 0.6931471824645996\n",
            "4600 0.6931471824645996\n",
            "4700 0.6931471824645996\n",
            "4800 0.6931471824645996\n",
            "4900 0.6931471824645996\n",
            "5000 0.6931471824645996\n",
            "5100 0.6931471824645996\n",
            "5200 0.6931471824645996\n",
            "5300 0.6931471824645996\n",
            "5400 0.6931471824645996\n",
            "5500 0.6931471824645996\n",
            "5600 0.6931471824645996\n",
            "5700 0.6931471824645996\n",
            "5800 0.6931471824645996\n",
            "5900 0.6931471824645996\n",
            "6000 0.6931471824645996\n",
            "6100 0.6931471824645996\n",
            "6200 0.6931471824645996\n",
            "6300 0.6931471824645996\n",
            "6400 0.6931471824645996\n",
            "6500 0.6931471824645996\n",
            "6600 0.6931471824645996\n",
            "6700 0.6931471824645996\n",
            "6800 0.6931471824645996\n",
            "6900 0.6931471824645996\n",
            "7000 0.6931471824645996\n",
            "7100 0.6931471824645996\n",
            "7200 0.6931471824645996\n",
            "7300 0.6931471824645996\n",
            "7400 0.6931471824645996\n",
            "7500 0.6931471824645996\n",
            "7600 0.6931471824645996\n",
            "7700 0.6931471824645996\n",
            "7800 0.6931471824645996\n",
            "7900 0.6931471824645996\n",
            "8000 0.6931471824645996\n",
            "8100 0.6931471824645996\n",
            "8200 0.6931471824645996\n",
            "8300 0.6931471824645996\n",
            "8400 0.6931471824645996\n",
            "8500 0.6931471824645996\n",
            "8600 0.6931471824645996\n",
            "8700 0.6931471824645996\n",
            "8800 0.6931471824645996\n",
            "8900 0.6931471824645996\n",
            "9000 0.6931471824645996\n",
            "9100 0.6931471824645996\n",
            "9200 0.6931471824645996\n",
            "9300 0.6931471824645996\n",
            "9400 0.6931471824645996\n",
            "9500 0.6931471824645996\n",
            "9600 0.6931471824645996\n",
            "9700 0.6931471824645996\n",
            "9800 0.6931471824645996\n",
            "9900 0.6931471824645996\n",
            "10000 0.6931471824645996\n"
          ]
        }
      ]
    },
    {
      "cell_type": "code",
      "source": [
        "with torch.no_grad():\n",
        "  hypothesis=model(X)\n",
        "  predicted=(hypothesis>0.5).float()\n",
        "  accuracy=(predicted==y).float().mean()\n",
        "  print(\"모델의 출력값(Hypothesis) :\",hypothesis.detach().cpu().numpy())\n",
        "  print(\"모델의 예측값(Predicted) :\",predicted.detach().cpu().numpy())\n",
        "  print(\"실제값(Y) :\", y.cpu().numpy())\n",
        "  print(\"정확도(Accuracy) :\",accuracy.item())"
      ],
      "metadata": {
        "colab": {
          "base_uri": "https://localhost:8080/"
        },
        "id": "o5LTI3WOlGOA",
        "outputId": "df90c1c8-1983-4838-9a1d-3aae51b1b66f"
      },
      "execution_count": 15,
      "outputs": [
        {
          "output_type": "stream",
          "name": "stdout",
          "text": [
            "모델의 출력값(Hypothesis) : [[0.5]\n",
            " [0.5]\n",
            " [0.5]\n",
            " [0.5]]\n",
            "모델의 예측값(Predicted) : [[0.]\n",
            " [0.]\n",
            " [0.]\n",
            " [0.]]\n",
            "실제값(Y) : [[0.]\n",
            " [1.]\n",
            " [1.]\n",
            " [0.]]\n",
            "정확도(Accuracy) : 0.5\n"
          ]
        }
      ]
    },
    {
      "cell_type": "markdown",
      "source": [
        "단층 퍼셉트론으로는 XOR 문제를 해결할 수 없다."
      ],
      "metadata": {
        "id": "nisZlYWBz5Mu"
      }
    },
    {
      "cell_type": "code",
      "source": [
        "## XOR 문제 : 다층 퍼셉트로 구현하기\n",
        "import torch\n",
        "import torch.nn as nn\n",
        "\n",
        "device='cuda' if torch.cuda.is_available() else 'cpu'\n",
        "torch.manual_seed(777)\n",
        "if device=='cuda':\n",
        "  torch.cuda.manual_seed_all(777)\n",
        "\n",
        "X = torch.FloatTensor([[0, 0], [0, 1], [1, 0], [1, 1]]).to(device)\n",
        "Y = torch.FloatTensor([[0], [1], [1], [0]]).to(device)\n",
        "\n",
        "model=nn.Sequential(\n",
        "    nn.Linear(2,10,bias=True),\n",
        "    nn.Sigmoid(),\n",
        "    nn.Linear(10,10, bias=True),\n",
        "    nn.Sigmoid(),\n",
        "    nn.Linear(10,10,bias=True),\n",
        "    nn.Sigmoid(),\n",
        "    nn.Linear(10,1,bias=True),\n",
        "    nn.Sigmoid(),\n",
        "    ).to(device)\n",
        "\n",
        "criterion=nn.BCELoss().to(device)\n",
        "optimizer=torch.optim.SGD(model.parameters(),lr=1)\n",
        "epoch=10000\n",
        "\n",
        "for epoch in range(epochs):\n",
        "  hypothesis=model(X)\n",
        "  cost=criterion(hypothesis, Y)\n",
        "\n",
        "  optimizer.zero_grad()\n",
        "  cost.backward()\n",
        "  optimizer.step()\n",
        "\n",
        "  if epoch%1000==0:\n",
        "    print(epoch, cost.item())"
      ],
      "metadata": {
        "colab": {
          "base_uri": "https://localhost:8080/"
        },
        "id": "kuTZWewvyrgN",
        "outputId": "266ef3cd-6369-4d0e-c9f6-8ae4c7eb6217"
      },
      "execution_count": 18,
      "outputs": [
        {
          "output_type": "stream",
          "name": "stdout",
          "text": [
            "0 0.6948983669281006\n",
            "1000 0.6931380033493042\n",
            "2000 0.6931171417236328\n",
            "3000 0.6930763125419617\n",
            "4000 0.6929102540016174\n",
            "5000 0.6820821762084961\n",
            "6000 0.001303493045270443\n",
            "7000 0.00048387213610112667\n",
            "8000 0.00028908095555379987\n",
            "9000 0.00020385441894177347\n"
          ]
        }
      ]
    },
    {
      "cell_type": "code",
      "source": [
        "with torch.no_grad():\n",
        "  hypothesis=model(X)\n",
        "  prediction=(hypothesis>0.5).float()\n",
        "  accuracy=(prediction==Y).float().mean()\n",
        "  print('모델의 출력값(hypothesis) :',hypothesis.detach().cpu().numpy())\n",
        "  print('모델의 예측값(prediction) :',prediction.detach().cpu().numpy())\n",
        "  print('실제값(Y) :',Y.cpu().numpy())\n",
        "  print('정확도(Accuracy) :',accuracy.item())"
      ],
      "metadata": {
        "colab": {
          "base_uri": "https://localhost:8080/"
        },
        "id": "lmdGQHSd7yM6",
        "outputId": "4baee92b-20c6-4cfb-f24f-7b76db202976"
      },
      "execution_count": 20,
      "outputs": [
        {
          "output_type": "stream",
          "name": "stdout",
          "text": [
            "모델의 출력값(hypothesis) : [[1.1172806e-04]\n",
            " [9.9982870e-01]\n",
            " [9.9984217e-01]\n",
            " [1.8535313e-04]]\n",
            "모델의 예측값(prediction) : [[0.]\n",
            " [1.]\n",
            " [1.]\n",
            " [0.]]\n",
            "실제값(Y) : [[0.]\n",
            " [1.]\n",
            " [1.]\n",
            " [0.]]\n",
            "정확도(Accuracy) : 1.0\n"
          ]
        }
      ]
    },
    {
      "cell_type": "code",
      "source": [
        "## 다층 퍼셉트론 : 손글씨 분류\n",
        "# 0-15의 명암, 8x8=64 pixel 해상도의 흑백이미지\n",
        "\n",
        "%matplotlib inline\n",
        "import matplotlib.pyplot as plt\n",
        "from sklearn.datasets import load_digits\n",
        "digits=load_digits()"
      ],
      "metadata": {
        "id": "WrbxRYc285Kl"
      },
      "execution_count": 21,
      "outputs": []
    },
    {
      "cell_type": "code",
      "source": [
        "print(digits.images[0])"
      ],
      "metadata": {
        "colab": {
          "base_uri": "https://localhost:8080/"
        },
        "id": "va1ZXAfq_zG5",
        "outputId": "d47c00f1-a4e9-4fdf-a5e1-b58fa3617bd1"
      },
      "execution_count": 23,
      "outputs": [
        {
          "output_type": "stream",
          "name": "stdout",
          "text": [
            "[[ 0.  0.  5. 13.  9.  1.  0.  0.]\n",
            " [ 0.  0. 13. 15. 10. 15.  5.  0.]\n",
            " [ 0.  3. 15.  2.  0. 11.  8.  0.]\n",
            " [ 0.  4. 12.  0.  0.  8.  8.  0.]\n",
            " [ 0.  5.  8.  0.  0.  9.  8.  0.]\n",
            " [ 0.  4. 11.  0.  1. 12.  7.  0.]\n",
            " [ 0.  2. 14.  5. 10. 12.  0.  0.]\n",
            " [ 0.  0.  6. 13. 10.  0.  0.  0.]]\n"
          ]
        }
      ]
    },
    {
      "cell_type": "code",
      "source": [
        "print(digits.target[0])"
      ],
      "metadata": {
        "colab": {
          "base_uri": "https://localhost:8080/"
        },
        "id": "mAGlRT2H_06f",
        "outputId": "7a729601-0bf7-4688-aaaf-d600bad24f57"
      },
      "execution_count": 27,
      "outputs": [
        {
          "output_type": "stream",
          "name": "stdout",
          "text": [
            "0\n"
          ]
        }
      ]
    },
    {
      "cell_type": "code",
      "source": [
        "print('전체 샘플의 수 :', len(digits.images))"
      ],
      "metadata": {
        "colab": {
          "base_uri": "https://localhost:8080/"
        },
        "id": "yWAOZnPB_6zx",
        "outputId": "213c98ee-3dcf-4a19-e332-05a850482f6d"
      },
      "execution_count": 28,
      "outputs": [
        {
          "output_type": "stream",
          "name": "stdout",
          "text": [
            "전체 샘플의 수 : 1797\n"
          ]
        }
      ]
    },
    {
      "cell_type": "code",
      "source": [
        "images_and_labels = list(zip(digits.images, digits.target))\n",
        "for index, (image, label) in enumerate(images_and_labels[:5]):\n",
        "    plt.subplot(2, 5, index + 1)\n",
        "    plt.axis('off')\n",
        "    plt.imshow(image, cmap=plt.cm.gray_r, interpolation='nearest')\n",
        "    plt.title('sample: %i' % label)"
      ],
      "metadata": {
        "colab": {
          "base_uri": "https://localhost:8080/",
          "height": 105
        },
        "id": "K9aYr42zAIO4",
        "outputId": "ce1248ec-0070-4dfb-b371-de5d2e764971"
      },
      "execution_count": 29,
      "outputs": [
        {
          "output_type": "display_data",
          "data": {
            "image/png": "[encoded data removed]",
            "text/plain": [
              "<Figure size 432x288 with 5 Axes>"
            ]
          },
          "metadata": {
            "needs_background": "light"
          }
        }
      ]
    },
    {
      "cell_type": "code",
      "source": [
        "for i in range(5):\n",
        "  print(i,'번 인덱스 샘플의 레이블 :',digits.target[i])"
      ],
      "metadata": {
        "colab": {
          "base_uri": "https://localhost:8080/"
        },
        "id": "YBqmH2QNAUvb",
        "outputId": "16ae64ca-a737-45bc-afb9-f47809e6563c"
      },
      "execution_count": 30,
      "outputs": [
        {
          "output_type": "stream",
          "name": "stdout",
          "text": [
            "0 번 인덱스 샘플의 레이블 : 0\n",
            "1 번 인덱스 샘플의 레이블 : 1\n",
            "2 번 인덱스 샘플의 레이블 : 2\n",
            "3 번 인덱스 샘플의 레이블 : 3\n",
            "4 번 인덱스 샘플의 레이블 : 4\n"
          ]
        }
      ]
    },
    {
      "cell_type": "code",
      "source": [
        "print(digits.data[0])"
      ],
      "metadata": {
        "colab": {
          "base_uri": "https://localhost:8080/"
        },
        "id": "cOLmyAsuAhMM",
        "outputId": "575070ea-e686-4aca-c3d2-d7ebabb386d9"
      },
      "execution_count": 31,
      "outputs": [
        {
          "output_type": "stream",
          "name": "stdout",
          "text": [
            "[ 0.  0.  5. 13.  9.  1.  0.  0.  0.  0. 13. 15. 10. 15.  5.  0.  0.  3.\n",
            " 15.  2.  0. 11.  8.  0.  0.  4. 12.  0.  0.  8.  8.  0.  0.  5.  8.  0.\n",
            "  0.  9.  8.  0.  0.  4. 11.  0.  1. 12.  7.  0.  0.  2. 14.  5. 10. 12.\n",
            "  0.  0.  0.  0.  6. 13. 10.  0.  0.  0.]\n"
          ]
        }
      ]
    },
    {
      "cell_type": "code",
      "source": [
        "X=torch.tensor(digits.data,dtype=torch.float32)\n",
        "Y=torch.tensor(digits.target, dtype=torch.int64)\n",
        "\n",
        "model=nn.Sequential(\n",
        "    nn.Linear(64,32),\n",
        "    nn.ReLU(),\n",
        "    nn.Linear(32,16),\n",
        "    nn.ReLU(),\n",
        "    nn.Linear(16,10)\n",
        ")\n",
        "\n",
        "criterion=nn.CrossEntropyLoss()\n",
        "optimizer=torch.optim.Adam(model.parameters())\n",
        "losses=[]\n",
        "epochs=100\n",
        "\n",
        "for epoch in range(epochs):\n",
        "  hypothesis=model(X)\n",
        "  cost=criterion(hypothesis, Y)\n",
        "\n",
        "  optimizer.zero_grad()\n",
        "  cost.backward()\n",
        "  optimizer.step()\n",
        "\n",
        "  if epoch%10==0:\n",
        "    print(f\"Epoch : {epoch:4d}/{epochs} Cost {cost.item():.6f}\")\n",
        "\n",
        "  losses.append(cost.item())"
      ],
      "metadata": {
        "colab": {
          "base_uri": "https://localhost:8080/"
        },
        "id": "CaZ3UWJ9ApX-",
        "outputId": "004b5fef-809f-447d-ca69-46c13575a098"
      },
      "execution_count": 32,
      "outputs": [
        {
          "output_type": "stream",
          "name": "stdout",
          "text": [
            "Epoch :    0/100 Cost 2.381846\n",
            "Epoch :   10/100 Cost 2.086940\n",
            "Epoch :   20/100 Cost 1.844468\n",
            "Epoch :   30/100 Cost 1.555474\n",
            "Epoch :   40/100 Cost 1.246410\n",
            "Epoch :   50/100 Cost 0.968091\n",
            "Epoch :   60/100 Cost 0.724376\n",
            "Epoch :   70/100 Cost 0.519714\n",
            "Epoch :   80/100 Cost 0.380598\n",
            "Epoch :   90/100 Cost 0.293385\n"
          ]
        }
      ]
    },
    {
      "cell_type": "code",
      "source": [
        "plt.plot(losses)"
      ],
      "metadata": {
        "colab": {
          "base_uri": "https://localhost:8080/",
          "height": 284
        },
        "id": "EWzZ33mvB6vz",
        "outputId": "cc59a6bb-04b7-4368-918d-5e04350fa698"
      },
      "execution_count": 34,
      "outputs": [
        {
          "output_type": "execute_result",
          "data": {
            "text/plain": [
              "[<matplotlib.lines.Line2D at 0x7fd973a91b90>]"
            ]
          },
          "metadata": {},
          "execution_count": 34
        },
        {
          "output_type": "display_data",
          "data": {
            "image/png": "[encoded data removed]",
            "text/plain": [
              "<Figure size 432x288 with 1 Axes>"
            ]
          },
          "metadata": {
            "needs_background": "light"
          }
        }
      ]
    },
    {
      "cell_type": "code",
      "source": [
        "## 다층 퍼셉트론 : MNIST 분류\n",
        "import numpy as np\n",
        "import matplotlib.pyplot as plt\n",
        "import torchvision\n",
        "from torchvision import transforms, utils\n",
        "% matplotlib inline"
      ],
      "metadata": {
        "id": "9nIDH3ycCM7q"
      },
      "execution_count": 300,
      "outputs": []
    },
    {
      "cell_type": "code",
      "source": [
        "mnist_train = torchvision.datasets.MNIST(root='./mnist', train=True, download=True, transform=torchvision.transforms.ToTensor())\n",
        "mnist_test = torchvision.datasets.MNIST(root='./mnist', train=False, download=True, transform=torchvision.transforms.ToTensor())"
      ],
      "metadata": {
        "id": "0AwztqGyfaok"
      },
      "execution_count": 301,
      "outputs": []
    },
    {
      "cell_type": "code",
      "source": [
        "mnist_train.data=torch.Tensor(np.array(mnist_train.data.reshape(-1,28*28)))\n",
        "mnist_test.data=torch.Tensor(np.array(mnist_test.data.reshape(-1,28*28)))"
      ],
      "metadata": {
        "id": "pqwZs1--wWCu"
      },
      "execution_count": 302,
      "outputs": []
    },
    {
      "cell_type": "code",
      "source": [
        "plt.imshow(mnist_train.data[0].reshape(28, 28), cmap='gray')"
      ],
      "metadata": {
        "colab": {
          "base_uri": "https://localhost:8080/",
          "height": 284
        },
        "id": "3Eh-zX1azsTY",
        "outputId": "a4b58ca6-6dd8-4ca1-f7b1-1b3d21f53c7d"
      },
      "execution_count": 303,
      "outputs": [
        {
          "output_type": "execute_result",
          "data": {
            "text/plain": [
              "<matplotlib.image.AxesImage at 0x7fd96cf57190>"
            ]
          },
          "metadata": {},
          "execution_count": 303
        },
        {
          "output_type": "display_data",
          "data": {
            "image/png": "[encoded data removed]",
            "text/plain": [
              "<Figure size 432x288 with 1 Axes>"
            ]
          },
          "metadata": {
            "needs_background": "light"
          }
        }
      ]
    },
    {
      "cell_type": "code",
      "source": [
        "ds_train=torch.utils.data.TensorDataset(mnist_train.data, mnist_train.targets)\n",
        "ds_test=torch.utils.data.TensorDataset(mnist_test.data, mnist_test.targets)"
      ],
      "metadata": {
        "id": "ucKC-H5i2icj"
      },
      "execution_count": 304,
      "outputs": []
    },
    {
      "cell_type": "code",
      "source": [
        "loader_train=torch.utils.data.DataLoader(ds_train, batch_size=64, shuffle=True)\n",
        "loader_test=torch.utils.data.DataLoader(ds_test, batch_size=64, shuffle=True)"
      ],
      "metadata": {
        "id": "oCXxzq5Bmk92"
      },
      "execution_count": 305,
      "outputs": []
    },
    {
      "cell_type": "code",
      "source": [
        "from torch import nn\n",
        "\n",
        "model=nn.Sequential()\n",
        "model.add_module('fc1',nn.Linear(28*28*1,100))\n",
        "model.add_module('relu1',nn.ReLU())\n",
        "model.add_module('fc2',nn.Linear(100,100))\n",
        "model.add_module('relu2',nn.ReLU())\n",
        "model.add_module('fc3',nn.Linear(100,10))\n",
        "\n",
        "print(model)"
      ],
      "metadata": {
        "colab": {
          "base_uri": "https://localhost:8080/"
        },
        "id": "g4FjcS2npZK5",
        "outputId": "33d6c8fd-59d1-4c08-c801-55ac481f0324"
      },
      "execution_count": 306,
      "outputs": [
        {
          "output_type": "stream",
          "name": "stdout",
          "text": [
            "Sequential(\n",
            "  (fc1): Linear(in_features=784, out_features=100, bias=True)\n",
            "  (relu1): ReLU()\n",
            "  (fc2): Linear(in_features=100, out_features=100, bias=True)\n",
            "  (relu2): ReLU()\n",
            "  (fc3): Linear(in_features=100, out_features=10, bias=True)\n",
            ")\n"
          ]
        }
      ]
    },
    {
      "cell_type": "code",
      "source": [
        "from torch import optim\n",
        "\n",
        "loss_fn=nn.CrossEntropyLoss()\n",
        "optimizer=optim.Adam(model.parameters(), lr=0.01)"
      ],
      "metadata": {
        "id": "68UFEC_6qCU-"
      },
      "execution_count": 307,
      "outputs": []
    },
    {
      "cell_type": "code",
      "source": [
        "def train(epoch):\n",
        "  model.train()\n",
        "\n",
        "  for data, targets in loader_train:\n",
        "    output=model(data)\n",
        "    loss=loss_fn(output, targets)\n",
        "    \n",
        "    optimizer.zero_grad()\n",
        "    loss.backward()\n",
        "    optimizer.step()\n",
        "\n",
        "  print(\"epoch {} : 완료\\n\".format(epoch))"
      ],
      "metadata": {
        "id": "lJnzC-TGqSE7"
      },
      "execution_count": 308,
      "outputs": []
    },
    {
      "cell_type": "code",
      "source": [
        "def test():\n",
        "    model.eval()  # 신경망을 추론 모드로 전환\n",
        "    correct = 0\n",
        "\n",
        "    with torch.no_grad(): \n",
        "        for data, targets in loader_test:\n",
        "            outputs = model(data)\n",
        "\n",
        "            _, predicted = torch.max(outputs.data, 1)\n",
        "            correct += predicted.eq(targets.data.view_as(predicted)).sum()  # 정답과 일치한 경우 정답 카운트를 증가\n",
        "\n",
        "    data_num = len(loader_test.dataset)\n",
        "    print('\\n테스트 데이터에서 예측 정확도: {}/{} ({:.0f}%)\\n'.format(correct,\n",
        "                                                   data_num, 100. * correct / data_num))"
      ],
      "metadata": {
        "id": "Okpg_bKJquvo"
      },
      "execution_count": 309,
      "outputs": []
    },
    {
      "cell_type": "code",
      "source": [
        "test()"
      ],
      "metadata": {
        "colab": {
          "base_uri": "https://localhost:8080/"
        },
        "id": "o_WT4IIF4reY",
        "outputId": "a3c7ed8b-a985-45cb-b81e-20fd12005aeb"
      },
      "execution_count": 310,
      "outputs": [
        {
          "output_type": "stream",
          "name": "stdout",
          "text": [
            "\n",
            "테스트 데이터에서 예측 정확도: 891/10000 (9%)\n",
            "\n"
          ]
        }
      ]
    },
    {
      "cell_type": "code",
      "source": [
        "for epoch in range(3):\n",
        "  train(epoch)\n",
        "\n",
        "test()"
      ],
      "metadata": {
        "colab": {
          "base_uri": "https://localhost:8080/"
        },
        "id": "B4yPHqM45ZUW",
        "outputId": "01df1b83-8fbc-4156-9a35-1f4041fe4f1f"
      },
      "execution_count": 311,
      "outputs": [
        {
          "output_type": "stream",
          "name": "stdout",
          "text": [
            "epoch 0 : 완료\n",
            "\n",
            "epoch 1 : 완료\n",
            "\n",
            "epoch 2 : 완료\n",
            "\n",
            "\n",
            "테스트 데이터에서 예측 정확도: 8769/10000 (88%)\n",
            "\n"
          ]
        }
      ]
    },
    {
      "cell_type": "code",
      "source": [
        "index=100\n",
        "\n",
        "model.eval()\n",
        "data=mnist_test.data[index]\n",
        "output=model(data)\n",
        "_, predicted=torch.max(output.data, 0)\n",
        "\n",
        "print('예측결과 :{}'.format(predicted))\n",
        "\n",
        "X_test_show = (mnist_test.data[index]).numpy()\n",
        "plt.imshow(X_test_show.reshape(28, 28), cmap='gray')\n",
        "print(\"이 이미지 데이터의 정답 레이블은 {:.0f}입니다\".format(mnist_test.targets[index]))"
      ],
      "metadata": {
        "colab": {
          "base_uri": "https://localhost:8080/",
          "height": 303
        },
        "id": "2XPpHQ_s5fkp",
        "outputId": "54c71baf-3929-4b9d-bd6d-f7afa941a0e6"
      },
      "execution_count": 325,
      "outputs": [
        {
          "output_type": "stream",
          "name": "stdout",
          "text": [
            "예측결과 :6\n",
            "이 이미지 데이터의 정답 레이블은 6입니다\n"
          ]
        },
        {
          "output_type": "display_data",
          "data": {
            "image/png": "[encoded data removed]",
            "text/plain": [
              "<Figure size 432x288 with 1 Axes>"
            ]
          },
          "metadata": {
            "needs_background": "light"
          }
        }
      ]
    },
    {
      "cell_type": "code",
      "source": [
        ""
      ],
      "metadata": {
        "id": "Dwvun2nY6p4b"
      },
      "execution_count": null,
      "outputs": []
    }
  ]
}