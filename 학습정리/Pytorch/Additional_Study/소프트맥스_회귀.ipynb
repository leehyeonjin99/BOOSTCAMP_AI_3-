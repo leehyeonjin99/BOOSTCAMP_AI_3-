{
  "nbformat": 4,
  "nbformat_minor": 0,
  "metadata": {
    "colab": {
      "name": "소프트맥스 회귀.ipynb",
      "provenance": [],
      "collapsed_sections": [],
      "authorship_tag": "ABX9TyPKzH54rQ3d1I5JCWwdD6+3"
    },
    "kernelspec": {
      "name": "python3",
      "display_name": "Python 3"
    },
    "language_info": {
      "name": "python"
    },
    "accelerator": "GPU"
  },
  "cells": [
    {
      "cell_type": "code",
      "execution_count": 1,
      "metadata": {
        "colab": {
          "base_uri": "https://localhost:8080/"
        },
        "id": "DEqioGKBGoeV",
        "outputId": "fc21550e-f54b-4c81-9366-7a2db7e727f3"
      },
      "outputs": [
        {
          "output_type": "execute_result",
          "data": {
            "text/plain": [
              "<torch._C.Generator at 0x7f5b94a0af90>"
            ]
          },
          "metadata": {},
          "execution_count": 1
        }
      ],
      "source": [
        "import torch\n",
        "import torch.nn.functional as F\n",
        "\n",
        "torch.manual_seed(1)"
      ]
    },
    {
      "cell_type": "code",
      "source": [
        "## 소프트맥스의 비용함수 구현 : low-level\n",
        "\n",
        "z=torch.FloatTensor([1,2,3])\n",
        "\n",
        "hypothesis=F.softmax(z, dim=0)\n",
        "print(hypothesis)"
      ],
      "metadata": {
        "colab": {
          "base_uri": "https://localhost:8080/"
        },
        "id": "Iix2Ab80IoxB",
        "outputId": "446c4766-7800-4077-cb7e-0cdfbccaaed1"
      },
      "execution_count": 2,
      "outputs": [
        {
          "output_type": "stream",
          "name": "stdout",
          "text": [
            "tensor([0.0900, 0.2447, 0.6652])\n"
          ]
        }
      ]
    },
    {
      "cell_type": "code",
      "source": [
        "hypothesis.sum()"
      ],
      "metadata": {
        "colab": {
          "base_uri": "https://localhost:8080/"
        },
        "id": "EEVaxR0II5FO",
        "outputId": "14aee9ca-f9b2-4563-c3cf-97e9d28d67cb"
      },
      "execution_count": 3,
      "outputs": [
        {
          "output_type": "execute_result",
          "data": {
            "text/plain": [
              "tensor(1.)"
            ]
          },
          "metadata": {},
          "execution_count": 3
        }
      ]
    },
    {
      "cell_type": "code",
      "source": [
        "z=torch.rand(3,5,requires_grad=True)"
      ],
      "metadata": {
        "id": "mmriCluiI_c_"
      },
      "execution_count": 4,
      "outputs": []
    },
    {
      "cell_type": "code",
      "source": [
        "hypothesis=F.softmax(z,dim=1)\n",
        "print(hypothesis)"
      ],
      "metadata": {
        "colab": {
          "base_uri": "https://localhost:8080/"
        },
        "id": "DcUS2jyNJFRk",
        "outputId": "5ecd5bda-df2d-4fc0-9136-9918bcc1df4e"
      },
      "execution_count": 5,
      "outputs": [
        {
          "output_type": "stream",
          "name": "stdout",
          "text": [
            "tensor([[0.2645, 0.1639, 0.1855, 0.2585, 0.1277],\n",
            "        [0.2430, 0.1624, 0.2322, 0.1930, 0.1694],\n",
            "        [0.2226, 0.1986, 0.2326, 0.1594, 0.1868]], grad_fn=<SoftmaxBackward0>)\n"
          ]
        }
      ]
    },
    {
      "cell_type": "code",
      "source": [
        "hypothesis.sum(dim=1)"
      ],
      "metadata": {
        "colab": {
          "base_uri": "https://localhost:8080/"
        },
        "id": "_aoyOOIrJJ-1",
        "outputId": "93da7c0f-3447-4074-896e-2f1cf537faeb"
      },
      "execution_count": 6,
      "outputs": [
        {
          "output_type": "execute_result",
          "data": {
            "text/plain": [
              "tensor([1.0000, 1.0000, 1.0000], grad_fn=<SumBackward1>)"
            ]
          },
          "metadata": {},
          "execution_count": 6
        }
      ]
    },
    {
      "cell_type": "code",
      "source": [
        "# 정답 레이블\n",
        "\n",
        "y=torch.randint(5,(3,)).long()\n",
        "print(y)"
      ],
      "metadata": {
        "colab": {
          "base_uri": "https://localhost:8080/"
        },
        "id": "5UJKRzUpJOOS",
        "outputId": "5cd77da8-160b-4832-bc5d-55693411ea69"
      },
      "execution_count": 7,
      "outputs": [
        {
          "output_type": "stream",
          "name": "stdout",
          "text": [
            "tensor([0, 2, 1])\n"
          ]
        }
      ]
    },
    {
      "cell_type": "code",
      "source": [
        "y_one_hot=torch.zeros_like(hypothesis)\n",
        "y_one_hot.scatter_(1,y.unsqueeze(1),1)"
      ],
      "metadata": {
        "colab": {
          "base_uri": "https://localhost:8080/"
        },
        "id": "7bfNsvHtJaVE",
        "outputId": "7ee0d5c0-ac8c-4a3b-8300-9ce046a17793"
      },
      "execution_count": 8,
      "outputs": [
        {
          "output_type": "execute_result",
          "data": {
            "text/plain": [
              "tensor([[1., 0., 0., 0., 0.],\n",
              "        [0., 0., 1., 0., 0.],\n",
              "        [0., 1., 0., 0., 0.]])"
            ]
          },
          "metadata": {},
          "execution_count": 8
        }
      ]
    },
    {
      "cell_type": "code",
      "source": [
        "y_one_hot"
      ],
      "metadata": {
        "colab": {
          "base_uri": "https://localhost:8080/"
        },
        "id": "H2-NAXU5JtAV",
        "outputId": "f49c7d27-1268-4779-fd81-a0640e203392"
      },
      "execution_count": 9,
      "outputs": [
        {
          "output_type": "execute_result",
          "data": {
            "text/plain": [
              "tensor([[1., 0., 0., 0., 0.],\n",
              "        [0., 0., 1., 0., 0.],\n",
              "        [0., 1., 0., 0., 0.]])"
            ]
          },
          "metadata": {},
          "execution_count": 9
        }
      ]
    },
    {
      "cell_type": "code",
      "source": [
        "cost=(y_one_hot*-torch.log(hypothesis)).sum(dim=1).mean()\n",
        "print(cost)"
      ],
      "metadata": {
        "colab": {
          "base_uri": "https://localhost:8080/"
        },
        "id": "FHj8OGkWJ9lU",
        "outputId": "16e0ee3d-1ac3-4f76-8f67-2f93f5fa1e53"
      },
      "execution_count": 10,
      "outputs": [
        {
          "output_type": "stream",
          "name": "stdout",
          "text": [
            "tensor(1.4689, grad_fn=<MeanBackward0>)\n"
          ]
        }
      ]
    },
    {
      "cell_type": "code",
      "source": [
        "## 파이토치로 소프트맥스의 비용함수 구현 : high-level\n",
        "# F.softmax()+torch.log()=F.log_softmax()\n",
        "torch.log(F.softmax(z,dim=1))"
      ],
      "metadata": {
        "colab": {
          "base_uri": "https://localhost:8080/"
        },
        "id": "WQNefPJiKktv",
        "outputId": "56d066e6-047a-40d7-b93c-fb118b5a321b"
      },
      "execution_count": 11,
      "outputs": [
        {
          "output_type": "execute_result",
          "data": {
            "text/plain": [
              "tensor([[-1.3301, -1.8084, -1.6846, -1.3530, -2.0584],\n",
              "        [-1.4147, -1.8174, -1.4602, -1.6450, -1.7758],\n",
              "        [-1.5025, -1.6165, -1.4586, -1.8360, -1.6776]], grad_fn=<LogBackward0>)"
            ]
          },
          "metadata": {},
          "execution_count": 11
        }
      ]
    },
    {
      "cell_type": "code",
      "source": [
        "F.log_softmax(z, dim=1)"
      ],
      "metadata": {
        "colab": {
          "base_uri": "https://localhost:8080/"
        },
        "id": "7qZm_MCNLJog",
        "outputId": "7fb7ef92-cafd-486e-daa3-416c90ed4893"
      },
      "execution_count": 12,
      "outputs": [
        {
          "output_type": "execute_result",
          "data": {
            "text/plain": [
              "tensor([[-1.3301, -1.8084, -1.6846, -1.3530, -2.0584],\n",
              "        [-1.4147, -1.8174, -1.4602, -1.6450, -1.7758],\n",
              "        [-1.5025, -1.6165, -1.4586, -1.8360, -1.6776]],\n",
              "       grad_fn=<LogSoftmaxBackward0>)"
            ]
          },
          "metadata": {},
          "execution_count": 12
        }
      ]
    },
    {
      "cell_type": "code",
      "source": [
        "# F.log_softmax+F.nll_loss()=F.cross_entropy\n",
        "(y_one_hot*-torch.log(F.softmax(z, dim=1))).sum(dim=1).mean()"
      ],
      "metadata": {
        "colab": {
          "base_uri": "https://localhost:8080/"
        },
        "id": "pkVIVwonLPF3",
        "outputId": "67c2bac1-0ecc-4701-99d4-d5162cf58e89"
      },
      "execution_count": 13,
      "outputs": [
        {
          "output_type": "execute_result",
          "data": {
            "text/plain": [
              "tensor(1.4689, grad_fn=<MeanBackward0>)"
            ]
          },
          "metadata": {},
          "execution_count": 13
        }
      ]
    },
    {
      "cell_type": "code",
      "source": [
        "(y_one_hot*-F.log_softmax(z, dim=1)).sum(dim=1).mean()"
      ],
      "metadata": {
        "colab": {
          "base_uri": "https://localhost:8080/"
        },
        "id": "kkbRBsW0Lkku",
        "outputId": "e4b42830-5d94-4fa6-e416-8e6ab9dc1e6e"
      },
      "execution_count": 14,
      "outputs": [
        {
          "output_type": "execute_result",
          "data": {
            "text/plain": [
              "tensor(1.4689, grad_fn=<MeanBackward0>)"
            ]
          },
          "metadata": {},
          "execution_count": 14
        }
      ]
    },
    {
      "cell_type": "code",
      "source": [
        "F.nll_loss(F.log_softmax(z,dim=1),y)"
      ],
      "metadata": {
        "colab": {
          "base_uri": "https://localhost:8080/"
        },
        "id": "tU1JmfTcLt0x",
        "outputId": "fbb68663-e970-4d0c-8d88-33ebb6295723"
      },
      "execution_count": 15,
      "outputs": [
        {
          "output_type": "execute_result",
          "data": {
            "text/plain": [
              "tensor(1.4689, grad_fn=<NllLossBackward0>)"
            ]
          },
          "metadata": {},
          "execution_count": 15
        }
      ]
    },
    {
      "cell_type": "code",
      "source": [
        "# F.cross_entropy는 비용함수부터 소프트맥스 함수까지 포함하고 있다.\n",
        "F.cross_entropy(z,y)"
      ],
      "metadata": {
        "colab": {
          "base_uri": "https://localhost:8080/"
        },
        "id": "67nz9iA9L7CZ",
        "outputId": "d2016b19-7ecd-4494-faf3-1dac7278eaca"
      },
      "execution_count": 16,
      "outputs": [
        {
          "output_type": "execute_result",
          "data": {
            "text/plain": [
              "tensor(1.4689, grad_fn=<NllLossBackward0>)"
            ]
          },
          "metadata": {},
          "execution_count": 16
        }
      ]
    },
    {
      "cell_type": "code",
      "source": [
        "## 소프트 맥스 회귀 구현하기 : low-level\n",
        "\n",
        "import torch\n",
        "import torch.nn as nn\n",
        "import torch.nn.functional as F\n",
        "import torch.optim as optim\n",
        "\n",
        "x_train = [[1, 2, 1, 1],\n",
        "           [2, 1, 3, 2],\n",
        "           [3, 1, 3, 4],\n",
        "           [4, 1, 5, 5],\n",
        "           [1, 7, 5, 5],\n",
        "           [1, 2, 5, 6],\n",
        "           [1, 6, 6, 6],\n",
        "           [1, 7, 7, 7]]\n",
        "y_train = [2, 2, 2, 1, 1, 1, 0, 0]\n",
        "x_train = torch.FloatTensor(x_train)\n",
        "y_train = torch.LongTensor(y_train)"
      ],
      "metadata": {
        "id": "BxF0u8A1L-nM"
      },
      "execution_count": 17,
      "outputs": []
    },
    {
      "cell_type": "code",
      "source": [
        "print(x_train.shape)\n",
        "print(y_train.shape)"
      ],
      "metadata": {
        "colab": {
          "base_uri": "https://localhost:8080/"
        },
        "id": "B_Fdu3G-MWlm",
        "outputId": "bed61d13-062f-4316-a370-ba2f8191bcec"
      },
      "execution_count": 18,
      "outputs": [
        {
          "output_type": "stream",
          "name": "stdout",
          "text": [
            "torch.Size([8, 4])\n",
            "torch.Size([8])\n"
          ]
        }
      ]
    },
    {
      "cell_type": "code",
      "source": [
        "y_one_hot=torch.zeros(8,3)\n",
        "y_one_hot.scatter_(1, y_train.unsqueeze(1), 1)\n",
        "print(y_one_hot)"
      ],
      "metadata": {
        "colab": {
          "base_uri": "https://localhost:8080/"
        },
        "id": "Obbtjih9MZ1E",
        "outputId": "5ffdb522-a882-4913-cfc3-442160842e39"
      },
      "execution_count": 19,
      "outputs": [
        {
          "output_type": "stream",
          "name": "stdout",
          "text": [
            "tensor([[0., 0., 1.],\n",
            "        [0., 0., 1.],\n",
            "        [0., 0., 1.],\n",
            "        [0., 1., 0.],\n",
            "        [0., 1., 0.],\n",
            "        [0., 1., 0.],\n",
            "        [1., 0., 0.],\n",
            "        [1., 0., 0.]])\n"
          ]
        }
      ]
    },
    {
      "cell_type": "code",
      "source": [
        "W=torch.zeros((4,3),requires_grad=True)\n",
        "b=torch.zeros(1, requires_grad=True)\n",
        "optimizer=optim.SGD([W,b],lr=0.1)\n",
        "epochs=1000\n",
        "\n",
        "for epoch in range(epochs+1):\n",
        "  hypothesis=F.softmax(x_train.matmul(W)+b, dim=1)\n",
        "  cost=(y_one_hot*-torch.log(hypothesis)).sum(dim=1).mean()\n",
        "\n",
        "  optimizer.zero_grad()\n",
        "  cost.backward()\n",
        "  optimizer.step()\n",
        "\n",
        "  if epoch%100==0:\n",
        "    print(f\"Epoch {epoch:4d}/{epochs} Cost : {cost.item():.6f}\")"
      ],
      "metadata": {
        "colab": {
          "base_uri": "https://localhost:8080/"
        },
        "id": "KHZmCIu-M2LF",
        "outputId": "75bfe2c0-b04f-494a-bad7-b605cc8691fa"
      },
      "execution_count": 20,
      "outputs": [
        {
          "output_type": "stream",
          "name": "stdout",
          "text": [
            "Epoch    0/1000 Cost : 1.098612\n",
            "Epoch  100/1000 Cost : 0.761050\n",
            "Epoch  200/1000 Cost : 0.689991\n",
            "Epoch  300/1000 Cost : 0.643229\n",
            "Epoch  400/1000 Cost : 0.604117\n",
            "Epoch  500/1000 Cost : 0.568255\n",
            "Epoch  600/1000 Cost : 0.533922\n",
            "Epoch  700/1000 Cost : 0.500291\n",
            "Epoch  800/1000 Cost : 0.466908\n",
            "Epoch  900/1000 Cost : 0.433507\n",
            "Epoch 1000/1000 Cost : 0.399962\n"
          ]
        }
      ]
    },
    {
      "cell_type": "code",
      "source": [
        "## 소프트 맥스 회귀 구현하기 : high-level\n",
        "\n",
        "W=torch.zeros((4,3),requires_grad=True)\n",
        "b=torch.zeros(1, requires_grad=True)\n",
        "optimizer=optim.SGD([W,b],lr=0.1)\n",
        "epochs=1000\n",
        "\n",
        "for epoch in range(epochs+1):\n",
        "  z=x_train.matmul(W)+b\n",
        "  cost=F.cross_entropy(z, y_train)\n",
        "\n",
        "  optimizer.zero_grad()\n",
        "  cost.backward()\n",
        "  optimizer.step()\n",
        "\n",
        "  if epoch%100==0:\n",
        "    print(f\"Epoch {epoch:4d}/{epochs} Cost : {cost.item():.6f}\")"
      ],
      "metadata": {
        "colab": {
          "base_uri": "https://localhost:8080/"
        },
        "id": "QCW059JiN1n8",
        "outputId": "875d0185-7da5-401b-8a6b-6192461afb93"
      },
      "execution_count": 21,
      "outputs": [
        {
          "output_type": "stream",
          "name": "stdout",
          "text": [
            "Epoch    0/1000 Cost : 1.098612\n",
            "Epoch  100/1000 Cost : 0.761050\n",
            "Epoch  200/1000 Cost : 0.689991\n",
            "Epoch  300/1000 Cost : 0.643229\n",
            "Epoch  400/1000 Cost : 0.604117\n",
            "Epoch  500/1000 Cost : 0.568256\n",
            "Epoch  600/1000 Cost : 0.533922\n",
            "Epoch  700/1000 Cost : 0.500291\n",
            "Epoch  800/1000 Cost : 0.466908\n",
            "Epoch  900/1000 Cost : 0.433507\n",
            "Epoch 1000/1000 Cost : 0.399962\n"
          ]
        }
      ]
    },
    {
      "cell_type": "code",
      "source": [
        "## Softmax 회귀 : nn.Module\n",
        "model=nn.Linear(4,3)\n",
        "optimizer=optim.SGD(model.parameters(),lr=0.1)\n",
        "epochs=1000\n",
        "\n",
        "for epoch in range(epochs):\n",
        "  prediction=model(x_train)\n",
        "  cost=F.cross_entropy(prediction, y_train)\n",
        "\n",
        "  optimizer.zero_grad()\n",
        "  cost.backward()\n",
        "  optimizer.step()\n",
        "\n",
        "  if epoch%100==0:\n",
        "    print(f\"Epoch {epoch:4d}/{epochs} Cost : {cost.item():.6f}\")"
      ],
      "metadata": {
        "colab": {
          "base_uri": "https://localhost:8080/"
        },
        "id": "wBdWoK9jOlf3",
        "outputId": "0a0da765-4232-402e-9474-a05ac278b421"
      },
      "execution_count": 22,
      "outputs": [
        {
          "output_type": "stream",
          "name": "stdout",
          "text": [
            "Epoch    0/1000 Cost : 1.849513\n",
            "Epoch  100/1000 Cost : 0.689894\n",
            "Epoch  200/1000 Cost : 0.609259\n",
            "Epoch  300/1000 Cost : 0.551218\n",
            "Epoch  400/1000 Cost : 0.500141\n",
            "Epoch  500/1000 Cost : 0.451947\n",
            "Epoch  600/1000 Cost : 0.405051\n",
            "Epoch  700/1000 Cost : 0.358733\n",
            "Epoch  800/1000 Cost : 0.312912\n",
            "Epoch  900/1000 Cost : 0.269522\n"
          ]
        }
      ]
    },
    {
      "cell_type": "code",
      "source": [
        "## Softmax 구현 : 회귀 클래스\n",
        "\n",
        "class SoftmaxClassifierModel(nn.Module):\n",
        "  def __init__(self):\n",
        "    super().__init__()\n",
        "    self.linear=nn.Linear(4,3)\n",
        "\n",
        "  def forward(self,x):\n",
        "    return self.linear(x)\n",
        "\n",
        "model=SoftmaxClassifierModel()\n",
        "optimizer=optim.SGD(model.parameters(),lr=0.1)\n",
        "epochs=1000\n",
        "\n",
        "for epoch in range(epochs+1):\n",
        "  prediction=model(x_train)\n",
        "  cost=F.cross_entropy(prediction, y_train)\n",
        "\n",
        "  optimizer.zero_grad()\n",
        "  cost.backward()\n",
        "  optimizer.step()\n",
        "\n",
        "  if epoch%100==0:\n",
        "    print(f\"Epoch {epoch:4d}/{epochs} Cost : {cost.item():.6f}\")"
      ],
      "metadata": {
        "colab": {
          "base_uri": "https://localhost:8080/"
        },
        "id": "rx-QVEPVPHob",
        "outputId": "991cea38-b8d6-4878-fc90-19e95901e28a"
      },
      "execution_count": 23,
      "outputs": [
        {
          "output_type": "stream",
          "name": "stdout",
          "text": [
            "Epoch    0/1000 Cost : 1.845720\n",
            "Epoch  100/1000 Cost : 0.647150\n",
            "Epoch  200/1000 Cost : 0.568868\n",
            "Epoch  300/1000 Cost : 0.515699\n",
            "Epoch  400/1000 Cost : 0.471727\n",
            "Epoch  500/1000 Cost : 0.432486\n",
            "Epoch  600/1000 Cost : 0.395880\n",
            "Epoch  700/1000 Cost : 0.360507\n",
            "Epoch  800/1000 Cost : 0.325227\n",
            "Epoch  900/1000 Cost : 0.289217\n",
            "Epoch 1000/1000 Cost : 0.254086\n"
          ]
        }
      ]
    },
    {
      "cell_type": "code",
      "source": [
        "## Softmax 회귀로 MNIST 데이터 분류하기\n",
        "\n",
        "import torch\n",
        "import torchvision.datasets as dsets\n",
        "import torchvision.transforms as transforms\n",
        "from torch.utils.data import DataLoader\n",
        "import torch.nn as nn\n",
        "import matplotlib.pyplot as plt\n",
        "import random\n",
        "\n",
        "USE_CUDA=torch.cuda.is_available()\n",
        "device=torch.device(\"cuda\" if USE_CUDA else \"cpu\")\n",
        "print('다음 기기로 학습합니다. :',device)"
      ],
      "metadata": {
        "colab": {
          "base_uri": "https://localhost:8080/"
        },
        "id": "bbA5wgDKQHVw",
        "outputId": "dc08a545-5027-4faa-e9b5-590682d59171"
      },
      "execution_count": 24,
      "outputs": [
        {
          "output_type": "stream",
          "name": "stdout",
          "text": [
            "다음 기기로 학습합니다. : cuda\n"
          ]
        }
      ]
    },
    {
      "cell_type": "code",
      "source": [
        "random.seed(777)\n",
        "torch.manual_seed(777)\n",
        "if device=='cuda':\n",
        "  torch.cuda.manual_seed_all(777)"
      ],
      "metadata": {
        "id": "lcvYRKOyRbPk"
      },
      "execution_count": 25,
      "outputs": []
    },
    {
      "cell_type": "code",
      "source": [
        "training_epochs=15\n",
        "batch_size=100"
      ],
      "metadata": {
        "id": "n1jWX_HgRmyI"
      },
      "execution_count": 26,
      "outputs": []
    },
    {
      "cell_type": "code",
      "source": [
        "mnist_train=dsets.MNIST(root=\"MNIST_data/\", train=True, transform=transforms.ToTensor(), download=True)"
      ],
      "metadata": {
        "id": "9_TKXDhqRq9K"
      },
      "execution_count": 27,
      "outputs": []
    },
    {
      "cell_type": "code",
      "source": [
        "data_loader=DataLoader(dataset=mnist_train, batch_size=batch_size, shuffle=True, drop_last=True)"
      ],
      "metadata": {
        "id": "D-Lj_jg5R6y1"
      },
      "execution_count": 28,
      "outputs": []
    },
    {
      "cell_type": "code",
      "source": [
        "linear=nn.Linear(784,10, bias=True).to(device)"
      ],
      "metadata": {
        "id": "75R-gw02SIAQ"
      },
      "execution_count": 29,
      "outputs": []
    },
    {
      "cell_type": "code",
      "source": [
        "criterion=nn.CrossEntropyLoss().to(device) # 내부적으로 소프트 맥스 함수를 포함\n",
        "optimizer=torch.optim.SGD(linear.parameters(), lr=0.1)"
      ],
      "metadata": {
        "id": "iRu4WXxESXXU"
      },
      "execution_count": 30,
      "outputs": []
    },
    {
      "cell_type": "code",
      "source": [
        "for epoch in range(training_epochs):\n",
        "  avg_cost=0\n",
        "  total_batch=len(data_loader)\n",
        "\n",
        "  for X, Y in data_loader:\n",
        "    X=X.view(-1,28*28).to(device)\n",
        "    Y=Y.to(device)\n",
        "    \n",
        "    hypothesis=linear(X)\n",
        "    cost=criterion(hypothesis, Y)\n",
        "\n",
        "    optimizer.zero_grad()\n",
        "    cost.backward()\n",
        "    optimizer.step()\n",
        "\n",
        "    avg_cost+=cost/total_batch\n",
        "  \n",
        "  print(\"Epoch :\",\"%04d\"%(epoch+1),\"cost =\",f\"{avg_cost:.9f}\")\n",
        "\n",
        "print('Learning Finished')"
      ],
      "metadata": {
        "colab": {
          "base_uri": "https://localhost:8080/"
        },
        "id": "Z6KbrFerSpF6",
        "outputId": "117e24a7-e6f5-42df-969a-00c2b6c8b84f"
      },
      "execution_count": 31,
      "outputs": [
        {
          "output_type": "stream",
          "name": "stdout",
          "text": [
            "Epoch : 0001 cost = 0.535150647\n",
            "Epoch : 0002 cost = 0.359577745\n",
            "Epoch : 0003 cost = 0.331264257\n",
            "Epoch : 0004 cost = 0.316404670\n",
            "Epoch : 0005 cost = 0.307106972\n",
            "Epoch : 0006 cost = 0.300456583\n",
            "Epoch : 0007 cost = 0.294933438\n",
            "Epoch : 0008 cost = 0.290956229\n",
            "Epoch : 0009 cost = 0.287074089\n",
            "Epoch : 0010 cost = 0.284515619\n",
            "Epoch : 0011 cost = 0.281914085\n",
            "Epoch : 0012 cost = 0.279526889\n",
            "Epoch : 0013 cost = 0.277636617\n",
            "Epoch : 0014 cost = 0.275874794\n",
            "Epoch : 0015 cost = 0.274422735\n",
            "Learning Finished\n"
          ]
        }
      ]
    },
    {
      "cell_type": "code",
      "source": [
        "mnist_test=dsets.MNIST(root=\"MNIST_data/\", transform=transforms.ToTensor(), train=False, download=True)"
      ],
      "metadata": {
        "id": "tcPy_6r1VdU5"
      },
      "execution_count": 32,
      "outputs": []
    },
    {
      "cell_type": "code",
      "source": [
        "# 테스트 데이터 사용\n",
        "\n",
        "\n",
        "\n",
        "with torch.no_grad():\n",
        "  X_test=mnist_test.test_data.view(-1,28*28).float().to(device)\n",
        "  Y_test=mnist_test.test_labels.to(device)\n",
        "\n",
        "  prediction=linear(X_test)\n",
        "  correct_prediction=torch.argmax(prediction,1)==Y_test\n",
        "  accuracy=correct_prediction.float().mean()\n",
        "  print('Accuacy :',accuracy.item())\n",
        "\n",
        "  r=random.randint(0,len(mnist_test)-1)\n",
        "  X_single_data=mnist_test.test_data[r].view(-1,28*28).float().to(device)\n",
        "  Y_single_data=mnist_test.test_labels[r].to(device)\n",
        "\n",
        "  print(\"Label:\", Y_single_data.item())\n",
        "  single_prediction=linear(X_single_data)\n",
        "  print(\"Prediction :\",torch.argmax(single_prediction,1).item())\n",
        "\n",
        "  plt.imshow(mnist_test.test_data[r].view(28,28), cmap=\"Greys\",interpolation=\"nearest\")\n",
        "  plt.show()"
      ],
      "metadata": {
        "colab": {
          "base_uri": "https://localhost:8080/",
          "height": 416
        },
        "id": "SHAP_kLDTkvh",
        "outputId": "28cdec00-635d-4918-ec97-3cc7617f6300"
      },
      "execution_count": 33,
      "outputs": [
        {
          "output_type": "stream",
          "name": "stdout",
          "text": [
            "Accuacy : 0.8883000016212463\n",
            "Label: 8\n",
            "Prediction : 3\n"
          ]
        },
        {
          "output_type": "stream",
          "name": "stderr",
          "text": [
            "/usr/local/lib/python3.7/dist-packages/torchvision/datasets/mnist.py:67: UserWarning: test_data has been renamed data\n",
            "  warnings.warn(\"test_data has been renamed data\")\n",
            "/usr/local/lib/python3.7/dist-packages/torchvision/datasets/mnist.py:57: UserWarning: test_labels has been renamed targets\n",
            "  warnings.warn(\"test_labels has been renamed targets\")\n"
          ]
        },
        {
          "output_type": "display_data",
          "data": {
            "image/png": "[encoded data removed]",
            "text/plain": [
              "<Figure size 432x288 with 1 Axes>"
            ]
          },
          "metadata": {
            "needs_background": "light"
          }
        }
      ]
    }
  ]
}