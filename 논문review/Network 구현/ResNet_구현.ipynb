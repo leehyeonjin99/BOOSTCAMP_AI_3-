{
  "cells": [
    {
      "cell_type": "markdown",
      "metadata": {
        "id": "view-in-github",
        "colab_type": "text"
      },
      "source": [
        "<a href=\"https://colab.research.google.com/github/leehyeonjin99/BOOSTCAMP_AI_Tech_Study_Diary/blob/main/%EB%85%BC%EB%AC%B8review/Network%20%EA%B5%AC%ED%98%84/ResNet_%EA%B5%AC%ED%98%84.ipynb\" target=\"_parent\"><img src=\"https://colab.research.google.com/assets/colab-badge.svg\" alt=\"Open In Colab\"/></a>"
      ]
    },
    {
      "cell_type": "markdown",
      "source": [
        "## ResNet 설계"
      ],
      "metadata": {
        "id": "O1mjlAQBECMv"
      }
    },
    {
      "cell_type": "code",
      "execution_count": 1,
      "metadata": {
        "id": "rdyc98ncKGd_"
      },
      "outputs": [],
      "source": [
        "import torch\n",
        "import torch.nn as nn"
      ]
    },
    {
      "cell_type": "code",
      "execution_count": 2,
      "metadata": {
        "id": "9eExUggHJvqh"
      },
      "outputs": [],
      "source": [
        "class BasicBlock(nn.Module):\n",
        "  mul=1\n",
        "  def __init__(self, in_channel, out_channel, stride=1):\n",
        "    super(BasicBlock, self).__init__()\n",
        "\n",
        "    self.conv1=nn.Conv2d(in_channel, out_channel, 3, stride=stride, padding=1, bias=False)\n",
        "    self.conv2=nn.Conv2d(out_channel, out_channel, 3, stride=1, padding=1, bias=False)\n",
        "\n",
        "    self.bn1=nn.BatchNorm2d(out_channel)\n",
        "    self.bn2=nn.BatchNorm2d(out_channel)\n",
        "\n",
        "    self.relu1=nn.ReLU()\n",
        "    self.relu2=nn.ReLU()\n",
        "\n",
        "    self.shortcut=nn.Sequential()\n",
        "    if stride!=1 or in_channel!=out_channel:\n",
        "      self.shortcut=nn.Sequential(nn.Conv2d(in_channel, out_channel, 1, stride=stride),\n",
        "                                  nn.BatchNorm2d(out_channel))\n",
        "    \n",
        "  def forward(self, x):\n",
        "    out=self.conv1(x)\n",
        "    out=self.bn1(out)\n",
        "    out=self.relu1(out)\n",
        "    out=self.conv2(out)\n",
        "    out=self.bn2(out)\n",
        "    out+=self.shortcut(x)\n",
        "    out=self.relu2(out)\n",
        "    return out"
      ]
    },
    {
      "cell_type": "code",
      "execution_count": 3,
      "metadata": {
        "id": "NIxISDmmMiWY"
      },
      "outputs": [],
      "source": [
        "class BottleNeck(nn.Module):\n",
        "  mul=4\n",
        "  def __init__(self, in_channel, out_channel, stride=1):\n",
        "    super(BottleNeck, self).__init__()\n",
        "\n",
        "    self.conv1=nn.Conv2d(in_channel, out_channel, 1, stride=1, bias=False)\n",
        "    self.conv2=nn.Conv2d(out_channel, out_channel, 3, stride=stride, padding=1, bias=False)\n",
        "    self.conv3=nn.Conv2d(out_channel, out_channel*self.mul, 1, stride=1, bias=False)\n",
        "\n",
        "    self.bn1=nn.BatchNorm2d(out_channel)\n",
        "    self.bn2=nn.BatchNorm2d(out_channel)\n",
        "    self.bn3=nn.BatchNorm2d(out_channel*self.mul)\n",
        "\n",
        "    self.relu1=nn.ReLU()\n",
        "    self.relu2=nn.ReLU()\n",
        "    self.relu3=nn.ReLU()\n",
        "\n",
        "    self.shortcut=nn.Sequential()\n",
        "    if stride!=1 or in_channel!=out_channel*self.mul:\n",
        "      self.shortcut = nn.Sequential(\n",
        "                nn.Conv2d(in_channel, out_channel*BottleNeck.mul, kernel_size=1, stride=stride, bias=False),\n",
        "                nn.BatchNorm2d(out_channel*BottleNeck.mul)\n",
        "            )\n",
        "      \n",
        "  def forward(self, x):\n",
        "    out=self.conv1(x)\n",
        "    out=self.bn1(out)\n",
        "    out=self.relu1(out)\n",
        "    out=self.conv2(out)\n",
        "    out=self.bn2(out)\n",
        "    out=self.relu2(out)\n",
        "    out=self.conv3(out)\n",
        "    out=self.bn3(out)\n",
        "    out+=self.shortcut(x)\n",
        "    out=self.relu3(out)\n",
        "    return out"
      ]
    },
    {
      "cell_type": "code",
      "execution_count": 4,
      "metadata": {
        "id": "oSRIZlW9RkoP"
      },
      "outputs": [],
      "source": [
        "class ResNet(nn.Module):\n",
        "  def __init__(self, block, num_blocks, num_classes=10):\n",
        "    super(ResNet, self).__init__()\n",
        "\n",
        "    self.in_channel=64\n",
        "\n",
        "    self.conv1=nn.Conv2d(3, self.in_channel, kernel_size=7, stride=2, padding=3, bias=False)\n",
        "    self.bn1=nn.BatchNorm2d(self.in_channel)\n",
        "    self.maxpool1=nn.MaxPool2d(kernel_size=3, stride=2, padding=1)\n",
        "    self.layer1=self._make_layer(block, 64, num_blocks[0], stride=1)\n",
        "    self.layer2=self._make_layer(block, 128, num_blocks[1], stride=2)\n",
        "    self.layer3=self._make_layer(block, 256, num_blocks[2], stride=2)\n",
        "    self.layer4=self._make_layer(block, 512, num_blocks[3], stride=2)\n",
        "\n",
        "    self.avgpool=nn.AdaptiveAvgPool2d((1,1))\n",
        "    self.linear=nn.Linear(512*block.mul,num_classes)\n",
        "  \n",
        "  def _make_layer(self, block, out_channel, num_block, stride):\n",
        "        layers  = [ block(self.in_channel, out_channel, stride) ]\n",
        "        self.in_channel = block.mul * out_channel\n",
        "        for i in range(num_block - 1):\n",
        "            layers.append(block(self.in_channel, out_channel, 1))\n",
        "            self.in_channel=out_channel*block.mul\n",
        "        return nn.Sequential(*layers)\n",
        "\n",
        "  def forward(self, x):\n",
        "    out=self.conv1(x)\n",
        "    #print(out.size())\n",
        "    out=self.bn1(out)\n",
        "    out=torch.nn.functional.relu(out)\n",
        "    out=self.maxpool1(out)\n",
        "    #print(out.size())\n",
        "    out=self.layer1(out)\n",
        "    #print(out.size())\n",
        "    out=self.layer2(out)\n",
        "    #print(out.size())\n",
        "    out=self.layer3(out)\n",
        "    #print(out.size())\n",
        "    out=self.layer4(out)\n",
        "    #print(out.size())\n",
        "    out=self.avgpool(out)\n",
        "    #print(out.size())\n",
        "    out=torch.flatten(out, 1)\n",
        "    #print(out.size())\n",
        "    out=self.linear(out)\n",
        "    return out"
      ]
    },
    {
      "cell_type": "code",
      "execution_count": 5,
      "metadata": {
        "id": "4owAIsW1XKlZ"
      },
      "outputs": [],
      "source": [
        "def ResNet18():\n",
        "    return ResNet(BasicBlock, [2, 2, 2, 2])\n",
        "\n",
        "def ResNet34():\n",
        "    return ResNet(BasicBlock, [3, 4, 6, 3])\n",
        "\n",
        "def ResNet50():\n",
        "    return ResNet(BottleNeck, [3, 4, 6, 3])\n",
        "\n",
        "def ResNet101():\n",
        "    return ResNet(BottleNeck, [3, 4, 23, 3])\n",
        "\n",
        "def ResNet152():\n",
        "    return ResNet(BottleNeck, [3, 8, 36, 3])"
      ]
    },
    {
      "cell_type": "code",
      "execution_count": 6,
      "metadata": {
        "colab": {
          "base_uri": "https://localhost:8080/"
        },
        "id": "PgUdBNf7YC9k",
        "outputId": "7c8920f3-b63e-48dd-ff9e-0915f6fb02c4"
      },
      "outputs": [
        {
          "output_type": "execute_result",
          "data": {
            "text/plain": [
              "tensor([[-0.2319,  0.2386,  0.3135, -0.7152,  0.6220, -0.8905, -0.0422, -0.5503,\n",
              "         -0.5824,  0.6591]], grad_fn=<AddmmBackward0>)"
            ]
          },
          "metadata": {},
          "execution_count": 6
        }
      ],
      "source": [
        "resnet=ResNet50()\n",
        "x=torch.randn((1,3,224,224))\n",
        "resnet(x)"
      ]
    },
    {
      "cell_type": "markdown",
      "metadata": {
        "id": "bhjrHtMmfGCF"
      },
      "source": [
        "## CIFAR 학습"
      ]
    },
    {
      "cell_type": "code",
      "execution_count": 8,
      "metadata": {
        "id": "EYlbIdlWG-Zu"
      },
      "outputs": [],
      "source": [
        "import torchvision\n",
        "import torch.optim as optim\n",
        "import torchvision.transforms as transforms\n",
        "import torchvision.models as models"
      ]
    },
    {
      "cell_type": "code",
      "execution_count": 30,
      "metadata": {
        "colab": {
          "base_uri": "https://localhost:8080/"
        },
        "id": "hnwjVVVYfFEO",
        "outputId": "29bd8ee7-fa79-4ca1-ba02-e69708a63ce6"
      },
      "outputs": [
        {
          "output_type": "stream",
          "name": "stdout",
          "text": [
            "Files already downloaded and verified\n",
            "Files already downloaded and verified\n"
          ]
        },
        {
          "output_type": "stream",
          "name": "stderr",
          "text": [
            "/usr/local/lib/python3.7/dist-packages/torch/utils/data/dataloader.py:481: UserWarning: This DataLoader will create 8 worker processes in total. Our suggested max number of worker in current system is 2, which is smaller than what this DataLoader is going to create. Please be aware that excessive worker creation might get DataLoader running slow or even freeze, lower the worker number to avoid potential slowness/freeze if necessary.\n",
            "  cpuset_checked))\n"
          ]
        }
      ],
      "source": [
        "transform_train=transforms.Compose([transforms.RandomCrop(32, padding=4),\n",
        "                                    transforms.RandomHorizontalFlip(),\n",
        "                                    transforms.ToTensor()])\n",
        "\n",
        "transform_test=transforms.Compose([transforms.ToTensor()])\n",
        "\n",
        "train_dataset = torchvision.datasets.CIFAR10(root='./data', train=True, download=True, transform=transform_train)\n",
        "test_dataset = torchvision.datasets.CIFAR10(root='./data', train=False, download=True, transform=transform_test)\n",
        "\n",
        "train_loader = torch.utils.data.DataLoader(train_dataset, batch_size=256, shuffle=True, num_workers=8)\n",
        "test_loader = torch.utils.data.DataLoader(test_dataset, batch_size=256, shuffle=False, num_workers=8)"
      ]
    },
    {
      "cell_type": "code",
      "execution_count": 31,
      "metadata": {
        "id": "R9OW2RFGf5xn",
        "colab": {
          "base_uri": "https://localhost:8080/"
        },
        "outputId": "0e0e0c39-53d3-438e-de98-9461b6d9ac49"
      },
      "outputs": [
        {
          "output_type": "stream",
          "name": "stderr",
          "text": [
            "/usr/local/lib/python3.7/dist-packages/ipykernel_launcher.py:6: UserWarning: nn.init.xavier_uniform is now deprecated in favor of nn.init.xavier_uniform_.\n",
            "  \n"
          ]
        },
        {
          "output_type": "execute_result",
          "data": {
            "text/plain": [
              "ResNet(\n",
              "  (conv1): Conv2d(3, 64, kernel_size=(7, 7), stride=(2, 2), padding=(3, 3), bias=False)\n",
              "  (bn1): BatchNorm2d(64, eps=1e-05, momentum=0.1, affine=True, track_running_stats=True)\n",
              "  (maxpool1): MaxPool2d(kernel_size=3, stride=2, padding=1, dilation=1, ceil_mode=False)\n",
              "  (layer1): Sequential(\n",
              "    (0): BottleNeck(\n",
              "      (conv1): Conv2d(64, 64, kernel_size=(1, 1), stride=(1, 1), bias=False)\n",
              "      (conv2): Conv2d(64, 64, kernel_size=(3, 3), stride=(1, 1), padding=(1, 1), bias=False)\n",
              "      (conv3): Conv2d(64, 256, kernel_size=(1, 1), stride=(1, 1), bias=False)\n",
              "      (bn1): BatchNorm2d(64, eps=1e-05, momentum=0.1, affine=True, track_running_stats=True)\n",
              "      (bn2): BatchNorm2d(64, eps=1e-05, momentum=0.1, affine=True, track_running_stats=True)\n",
              "      (bn3): BatchNorm2d(256, eps=1e-05, momentum=0.1, affine=True, track_running_stats=True)\n",
              "      (relu1): ReLU()\n",
              "      (relu2): ReLU()\n",
              "      (relu3): ReLU()\n",
              "      (shortcut): Sequential(\n",
              "        (0): Conv2d(64, 256, kernel_size=(1, 1), stride=(1, 1), bias=False)\n",
              "        (1): BatchNorm2d(256, eps=1e-05, momentum=0.1, affine=True, track_running_stats=True)\n",
              "      )\n",
              "    )\n",
              "    (1): BottleNeck(\n",
              "      (conv1): Conv2d(256, 64, kernel_size=(1, 1), stride=(1, 1), bias=False)\n",
              "      (conv2): Conv2d(64, 64, kernel_size=(3, 3), stride=(1, 1), padding=(1, 1), bias=False)\n",
              "      (conv3): Conv2d(64, 256, kernel_size=(1, 1), stride=(1, 1), bias=False)\n",
              "      (bn1): BatchNorm2d(64, eps=1e-05, momentum=0.1, affine=True, track_running_stats=True)\n",
              "      (bn2): BatchNorm2d(64, eps=1e-05, momentum=0.1, affine=True, track_running_stats=True)\n",
              "      (bn3): BatchNorm2d(256, eps=1e-05, momentum=0.1, affine=True, track_running_stats=True)\n",
              "      (relu1): ReLU()\n",
              "      (relu2): ReLU()\n",
              "      (relu3): ReLU()\n",
              "      (shortcut): Sequential()\n",
              "    )\n",
              "    (2): BottleNeck(\n",
              "      (conv1): Conv2d(256, 64, kernel_size=(1, 1), stride=(1, 1), bias=False)\n",
              "      (conv2): Conv2d(64, 64, kernel_size=(3, 3), stride=(1, 1), padding=(1, 1), bias=False)\n",
              "      (conv3): Conv2d(64, 256, kernel_size=(1, 1), stride=(1, 1), bias=False)\n",
              "      (bn1): BatchNorm2d(64, eps=1e-05, momentum=0.1, affine=True, track_running_stats=True)\n",
              "      (bn2): BatchNorm2d(64, eps=1e-05, momentum=0.1, affine=True, track_running_stats=True)\n",
              "      (bn3): BatchNorm2d(256, eps=1e-05, momentum=0.1, affine=True, track_running_stats=True)\n",
              "      (relu1): ReLU()\n",
              "      (relu2): ReLU()\n",
              "      (relu3): ReLU()\n",
              "      (shortcut): Sequential()\n",
              "    )\n",
              "  )\n",
              "  (layer2): Sequential(\n",
              "    (0): BottleNeck(\n",
              "      (conv1): Conv2d(256, 128, kernel_size=(1, 1), stride=(1, 1), bias=False)\n",
              "      (conv2): Conv2d(128, 128, kernel_size=(3, 3), stride=(2, 2), padding=(1, 1), bias=False)\n",
              "      (conv3): Conv2d(128, 512, kernel_size=(1, 1), stride=(1, 1), bias=False)\n",
              "      (bn1): BatchNorm2d(128, eps=1e-05, momentum=0.1, affine=True, track_running_stats=True)\n",
              "      (bn2): BatchNorm2d(128, eps=1e-05, momentum=0.1, affine=True, track_running_stats=True)\n",
              "      (bn3): BatchNorm2d(512, eps=1e-05, momentum=0.1, affine=True, track_running_stats=True)\n",
              "      (relu1): ReLU()\n",
              "      (relu2): ReLU()\n",
              "      (relu3): ReLU()\n",
              "      (shortcut): Sequential(\n",
              "        (0): Conv2d(256, 512, kernel_size=(1, 1), stride=(2, 2), bias=False)\n",
              "        (1): BatchNorm2d(512, eps=1e-05, momentum=0.1, affine=True, track_running_stats=True)\n",
              "      )\n",
              "    )\n",
              "    (1): BottleNeck(\n",
              "      (conv1): Conv2d(512, 128, kernel_size=(1, 1), stride=(1, 1), bias=False)\n",
              "      (conv2): Conv2d(128, 128, kernel_size=(3, 3), stride=(1, 1), padding=(1, 1), bias=False)\n",
              "      (conv3): Conv2d(128, 512, kernel_size=(1, 1), stride=(1, 1), bias=False)\n",
              "      (bn1): BatchNorm2d(128, eps=1e-05, momentum=0.1, affine=True, track_running_stats=True)\n",
              "      (bn2): BatchNorm2d(128, eps=1e-05, momentum=0.1, affine=True, track_running_stats=True)\n",
              "      (bn3): BatchNorm2d(512, eps=1e-05, momentum=0.1, affine=True, track_running_stats=True)\n",
              "      (relu1): ReLU()\n",
              "      (relu2): ReLU()\n",
              "      (relu3): ReLU()\n",
              "      (shortcut): Sequential()\n",
              "    )\n",
              "    (2): BottleNeck(\n",
              "      (conv1): Conv2d(512, 128, kernel_size=(1, 1), stride=(1, 1), bias=False)\n",
              "      (conv2): Conv2d(128, 128, kernel_size=(3, 3), stride=(1, 1), padding=(1, 1), bias=False)\n",
              "      (conv3): Conv2d(128, 512, kernel_size=(1, 1), stride=(1, 1), bias=False)\n",
              "      (bn1): BatchNorm2d(128, eps=1e-05, momentum=0.1, affine=True, track_running_stats=True)\n",
              "      (bn2): BatchNorm2d(128, eps=1e-05, momentum=0.1, affine=True, track_running_stats=True)\n",
              "      (bn3): BatchNorm2d(512, eps=1e-05, momentum=0.1, affine=True, track_running_stats=True)\n",
              "      (relu1): ReLU()\n",
              "      (relu2): ReLU()\n",
              "      (relu3): ReLU()\n",
              "      (shortcut): Sequential()\n",
              "    )\n",
              "    (3): BottleNeck(\n",
              "      (conv1): Conv2d(512, 128, kernel_size=(1, 1), stride=(1, 1), bias=False)\n",
              "      (conv2): Conv2d(128, 128, kernel_size=(3, 3), stride=(1, 1), padding=(1, 1), bias=False)\n",
              "      (conv3): Conv2d(128, 512, kernel_size=(1, 1), stride=(1, 1), bias=False)\n",
              "      (bn1): BatchNorm2d(128, eps=1e-05, momentum=0.1, affine=True, track_running_stats=True)\n",
              "      (bn2): BatchNorm2d(128, eps=1e-05, momentum=0.1, affine=True, track_running_stats=True)\n",
              "      (bn3): BatchNorm2d(512, eps=1e-05, momentum=0.1, affine=True, track_running_stats=True)\n",
              "      (relu1): ReLU()\n",
              "      (relu2): ReLU()\n",
              "      (relu3): ReLU()\n",
              "      (shortcut): Sequential()\n",
              "    )\n",
              "  )\n",
              "  (layer3): Sequential(\n",
              "    (0): BottleNeck(\n",
              "      (conv1): Conv2d(512, 256, kernel_size=(1, 1), stride=(1, 1), bias=False)\n",
              "      (conv2): Conv2d(256, 256, kernel_size=(3, 3), stride=(2, 2), padding=(1, 1), bias=False)\n",
              "      (conv3): Conv2d(256, 1024, kernel_size=(1, 1), stride=(1, 1), bias=False)\n",
              "      (bn1): BatchNorm2d(256, eps=1e-05, momentum=0.1, affine=True, track_running_stats=True)\n",
              "      (bn2): BatchNorm2d(256, eps=1e-05, momentum=0.1, affine=True, track_running_stats=True)\n",
              "      (bn3): BatchNorm2d(1024, eps=1e-05, momentum=0.1, affine=True, track_running_stats=True)\n",
              "      (relu1): ReLU()\n",
              "      (relu2): ReLU()\n",
              "      (relu3): ReLU()\n",
              "      (shortcut): Sequential(\n",
              "        (0): Conv2d(512, 1024, kernel_size=(1, 1), stride=(2, 2), bias=False)\n",
              "        (1): BatchNorm2d(1024, eps=1e-05, momentum=0.1, affine=True, track_running_stats=True)\n",
              "      )\n",
              "    )\n",
              "    (1): BottleNeck(\n",
              "      (conv1): Conv2d(1024, 256, kernel_size=(1, 1), stride=(1, 1), bias=False)\n",
              "      (conv2): Conv2d(256, 256, kernel_size=(3, 3), stride=(1, 1), padding=(1, 1), bias=False)\n",
              "      (conv3): Conv2d(256, 1024, kernel_size=(1, 1), stride=(1, 1), bias=False)\n",
              "      (bn1): BatchNorm2d(256, eps=1e-05, momentum=0.1, affine=True, track_running_stats=True)\n",
              "      (bn2): BatchNorm2d(256, eps=1e-05, momentum=0.1, affine=True, track_running_stats=True)\n",
              "      (bn3): BatchNorm2d(1024, eps=1e-05, momentum=0.1, affine=True, track_running_stats=True)\n",
              "      (relu1): ReLU()\n",
              "      (relu2): ReLU()\n",
              "      (relu3): ReLU()\n",
              "      (shortcut): Sequential()\n",
              "    )\n",
              "    (2): BottleNeck(\n",
              "      (conv1): Conv2d(1024, 256, kernel_size=(1, 1), stride=(1, 1), bias=False)\n",
              "      (conv2): Conv2d(256, 256, kernel_size=(3, 3), stride=(1, 1), padding=(1, 1), bias=False)\n",
              "      (conv3): Conv2d(256, 1024, kernel_size=(1, 1), stride=(1, 1), bias=False)\n",
              "      (bn1): BatchNorm2d(256, eps=1e-05, momentum=0.1, affine=True, track_running_stats=True)\n",
              "      (bn2): BatchNorm2d(256, eps=1e-05, momentum=0.1, affine=True, track_running_stats=True)\n",
              "      (bn3): BatchNorm2d(1024, eps=1e-05, momentum=0.1, affine=True, track_running_stats=True)\n",
              "      (relu1): ReLU()\n",
              "      (relu2): ReLU()\n",
              "      (relu3): ReLU()\n",
              "      (shortcut): Sequential()\n",
              "    )\n",
              "    (3): BottleNeck(\n",
              "      (conv1): Conv2d(1024, 256, kernel_size=(1, 1), stride=(1, 1), bias=False)\n",
              "      (conv2): Conv2d(256, 256, kernel_size=(3, 3), stride=(1, 1), padding=(1, 1), bias=False)\n",
              "      (conv3): Conv2d(256, 1024, kernel_size=(1, 1), stride=(1, 1), bias=False)\n",
              "      (bn1): BatchNorm2d(256, eps=1e-05, momentum=0.1, affine=True, track_running_stats=True)\n",
              "      (bn2): BatchNorm2d(256, eps=1e-05, momentum=0.1, affine=True, track_running_stats=True)\n",
              "      (bn3): BatchNorm2d(1024, eps=1e-05, momentum=0.1, affine=True, track_running_stats=True)\n",
              "      (relu1): ReLU()\n",
              "      (relu2): ReLU()\n",
              "      (relu3): ReLU()\n",
              "      (shortcut): Sequential()\n",
              "    )\n",
              "    (4): BottleNeck(\n",
              "      (conv1): Conv2d(1024, 256, kernel_size=(1, 1), stride=(1, 1), bias=False)\n",
              "      (conv2): Conv2d(256, 256, kernel_size=(3, 3), stride=(1, 1), padding=(1, 1), bias=False)\n",
              "      (conv3): Conv2d(256, 1024, kernel_size=(1, 1), stride=(1, 1), bias=False)\n",
              "      (bn1): BatchNorm2d(256, eps=1e-05, momentum=0.1, affine=True, track_running_stats=True)\n",
              "      (bn2): BatchNorm2d(256, eps=1e-05, momentum=0.1, affine=True, track_running_stats=True)\n",
              "      (bn3): BatchNorm2d(1024, eps=1e-05, momentum=0.1, affine=True, track_running_stats=True)\n",
              "      (relu1): ReLU()\n",
              "      (relu2): ReLU()\n",
              "      (relu3): ReLU()\n",
              "      (shortcut): Sequential()\n",
              "    )\n",
              "    (5): BottleNeck(\n",
              "      (conv1): Conv2d(1024, 256, kernel_size=(1, 1), stride=(1, 1), bias=False)\n",
              "      (conv2): Conv2d(256, 256, kernel_size=(3, 3), stride=(1, 1), padding=(1, 1), bias=False)\n",
              "      (conv3): Conv2d(256, 1024, kernel_size=(1, 1), stride=(1, 1), bias=False)\n",
              "      (bn1): BatchNorm2d(256, eps=1e-05, momentum=0.1, affine=True, track_running_stats=True)\n",
              "      (bn2): BatchNorm2d(256, eps=1e-05, momentum=0.1, affine=True, track_running_stats=True)\n",
              "      (bn3): BatchNorm2d(1024, eps=1e-05, momentum=0.1, affine=True, track_running_stats=True)\n",
              "      (relu1): ReLU()\n",
              "      (relu2): ReLU()\n",
              "      (relu3): ReLU()\n",
              "      (shortcut): Sequential()\n",
              "    )\n",
              "  )\n",
              "  (layer4): Sequential(\n",
              "    (0): BottleNeck(\n",
              "      (conv1): Conv2d(1024, 512, kernel_size=(1, 1), stride=(1, 1), bias=False)\n",
              "      (conv2): Conv2d(512, 512, kernel_size=(3, 3), stride=(2, 2), padding=(1, 1), bias=False)\n",
              "      (conv3): Conv2d(512, 2048, kernel_size=(1, 1), stride=(1, 1), bias=False)\n",
              "      (bn1): BatchNorm2d(512, eps=1e-05, momentum=0.1, affine=True, track_running_stats=True)\n",
              "      (bn2): BatchNorm2d(512, eps=1e-05, momentum=0.1, affine=True, track_running_stats=True)\n",
              "      (bn3): BatchNorm2d(2048, eps=1e-05, momentum=0.1, affine=True, track_running_stats=True)\n",
              "      (relu1): ReLU()\n",
              "      (relu2): ReLU()\n",
              "      (relu3): ReLU()\n",
              "      (shortcut): Sequential(\n",
              "        (0): Conv2d(1024, 2048, kernel_size=(1, 1), stride=(2, 2), bias=False)\n",
              "        (1): BatchNorm2d(2048, eps=1e-05, momentum=0.1, affine=True, track_running_stats=True)\n",
              "      )\n",
              "    )\n",
              "    (1): BottleNeck(\n",
              "      (conv1): Conv2d(2048, 512, kernel_size=(1, 1), stride=(1, 1), bias=False)\n",
              "      (conv2): Conv2d(512, 512, kernel_size=(3, 3), stride=(1, 1), padding=(1, 1), bias=False)\n",
              "      (conv3): Conv2d(512, 2048, kernel_size=(1, 1), stride=(1, 1), bias=False)\n",
              "      (bn1): BatchNorm2d(512, eps=1e-05, momentum=0.1, affine=True, track_running_stats=True)\n",
              "      (bn2): BatchNorm2d(512, eps=1e-05, momentum=0.1, affine=True, track_running_stats=True)\n",
              "      (bn3): BatchNorm2d(2048, eps=1e-05, momentum=0.1, affine=True, track_running_stats=True)\n",
              "      (relu1): ReLU()\n",
              "      (relu2): ReLU()\n",
              "      (relu3): ReLU()\n",
              "      (shortcut): Sequential()\n",
              "    )\n",
              "    (2): BottleNeck(\n",
              "      (conv1): Conv2d(2048, 512, kernel_size=(1, 1), stride=(1, 1), bias=False)\n",
              "      (conv2): Conv2d(512, 512, kernel_size=(3, 3), stride=(1, 1), padding=(1, 1), bias=False)\n",
              "      (conv3): Conv2d(512, 2048, kernel_size=(1, 1), stride=(1, 1), bias=False)\n",
              "      (bn1): BatchNorm2d(512, eps=1e-05, momentum=0.1, affine=True, track_running_stats=True)\n",
              "      (bn2): BatchNorm2d(512, eps=1e-05, momentum=0.1, affine=True, track_running_stats=True)\n",
              "      (bn3): BatchNorm2d(2048, eps=1e-05, momentum=0.1, affine=True, track_running_stats=True)\n",
              "      (relu1): ReLU()\n",
              "      (relu2): ReLU()\n",
              "      (relu3): ReLU()\n",
              "      (shortcut): Sequential()\n",
              "    )\n",
              "  )\n",
              "  (avgpool): AdaptiveAvgPool2d(output_size=(1, 1))\n",
              "  (linear): Linear(in_features=2048, out_features=10, bias=True)\n",
              ")"
            ]
          },
          "metadata": {},
          "execution_count": 31
        }
      ],
      "source": [
        "device ='cuda' if torch.cuda.is_available() else 'cpu'\n",
        "model=ResNet50()\n",
        "\n",
        "def init_weights(m):\n",
        "    if isinstance(m, nn.Linear):\n",
        "        torch.nn.init.xavier_uniform(m.weight)\n",
        "        m.bias.data.fill_(0.01)\n",
        "\n",
        "model.apply(init_weights)"
      ]
    },
    {
      "cell_type": "code",
      "source": [
        "model.to(device)\n",
        "num_epoch=150\n",
        "model_name='model.pth'\n",
        "\n",
        "loss=nn.CrossEntropyLoss()\n",
        "optimizer=optim.Adam(model.parameters(), lr=0.001)\n",
        "\n",
        "train_loss=0\n",
        "valid_loss=0\n",
        "correct=0\n",
        "total_cnt=0\n",
        "best_acc=0"
      ],
      "metadata": {
        "id": "TMi2q9tLr8NT"
      },
      "execution_count": 32,
      "outputs": []
    },
    {
      "cell_type": "code",
      "source": [
        "for epoch in range(20):\n",
        "  print(f\"======{epoch+1} epoch of {20}======\")\n",
        "  model.train()\n",
        "  train_loss=0\n",
        "  valid_loss=0\n",
        "  correct=0\n",
        "  total_cnt=0\n",
        "\n",
        "  for step, (X, y) in enumerate(train_loader):\n",
        "    X=X.to(device)\n",
        "    y=y.to(device)\n",
        "\n",
        "    predict=model(X)\n",
        "    L=loss(predict, y)\n",
        "\n",
        "    optimizer.zero_grad()\n",
        "    L.backward()\n",
        "    optimizer.step()\n",
        "\n",
        "    train_loss+=L.item()\n",
        "    pred = torch.argmax(predict, dim=1)\n",
        "    total_cnt+=y.size(0)\n",
        "    correct+=torch.sum(pred==y).sum()\n",
        "\n",
        "  print(f\"Train Acc : {correct/total_cnt}\")\n",
        "  print(f\"Train Loss : {L.item()/y.size(0)}\")"
      ],
      "metadata": {
        "colab": {
          "base_uri": "https://localhost:8080/"
        },
        "id": "yn9JlVxAssPW",
        "outputId": "1f6e42ac-fc5b-48ae-93f9-3b80661464e0"
      },
      "execution_count": 33,
      "outputs": [
        {
          "output_type": "stream",
          "name": "stdout",
          "text": [
            "======1 epoch of 20======\n"
          ]
        },
        {
          "output_type": "stream",
          "name": "stderr",
          "text": [
            "/usr/local/lib/python3.7/dist-packages/torch/utils/data/dataloader.py:481: UserWarning: This DataLoader will create 8 worker processes in total. Our suggested max number of worker in current system is 2, which is smaller than what this DataLoader is going to create. Please be aware that excessive worker creation might get DataLoader running slow or even freeze, lower the worker number to avoid potential slowness/freeze if necessary.\n",
            "  cpuset_checked))\n"
          ]
        },
        {
          "output_type": "stream",
          "name": "stdout",
          "text": [
            "Train Acc : 0.34369999170303345\n",
            "Train Loss : 0.021021613478660585\n",
            "======2 epoch of 20======\n",
            "Train Acc : 0.47679999470710754\n",
            "Train Loss : 0.016913872957229615\n",
            "======3 epoch of 20======\n",
            "Train Acc : 0.36403998732566833\n",
            "Train Loss : 0.022632455825805663\n",
            "======4 epoch of 20======\n",
            "Train Acc : 0.35763999819755554\n",
            "Train Loss : 0.019592751562595368\n",
            "======5 epoch of 20======\n",
            "Train Acc : 0.4213999807834625\n",
            "Train Loss : 0.020733968913555147\n",
            "======6 epoch of 20======\n",
            "Train Acc : 0.48721998929977417\n",
            "Train Loss : 0.016411039233207702\n",
            "======7 epoch of 20======\n",
            "Train Acc : 0.5119199752807617\n",
            "Train Loss : 0.013726480305194855\n",
            "======8 epoch of 20======\n",
            "Train Acc : 0.5247200131416321\n",
            "Train Loss : 0.01615239679813385\n",
            "======9 epoch of 20======\n",
            "Train Acc : 0.5742999911308289\n",
            "Train Loss : 0.013468238711357116\n",
            "======10 epoch of 20======\n",
            "Train Acc : 0.5292400121688843\n",
            "Train Loss : 0.03257322013378143\n",
            "======11 epoch of 20======\n",
            "Train Acc : 0.5103799700737\n",
            "Train Loss : 0.013678854703903199\n",
            "======12 epoch of 20======\n",
            "Train Acc : 0.5498200058937073\n",
            "Train Loss : 0.018486106395721437\n",
            "======13 epoch of 20======\n",
            "Train Acc : 0.5573599934577942\n",
            "Train Loss : 0.016430869698524475\n",
            "======14 epoch of 20======\n",
            "Train Acc : 0.581059992313385\n",
            "Train Loss : 0.013966235518455505\n",
            "======15 epoch of 20======\n",
            "Train Acc : 0.6372799873352051\n",
            "Train Loss : 0.014376942813396455\n",
            "======16 epoch of 20======\n",
            "Train Acc : 0.6497399806976318\n",
            "Train Loss : 0.01047777310013771\n",
            "======17 epoch of 20======\n",
            "Train Acc : 0.6772599816322327\n",
            "Train Loss : 0.018618646264076232\n",
            "======18 epoch of 20======\n",
            "Train Acc : 0.6681999564170837\n",
            "Train Loss : 0.010317760705947875\n",
            "======19 epoch of 20======\n",
            "Train Acc : 0.7004599571228027\n",
            "Train Loss : 0.009117786586284638\n",
            "======20 epoch of 20======\n",
            "Train Acc : 0.7164199948310852\n",
            "Train Loss : 0.011170007288455963\n"
          ]
        }
      ]
    },
    {
      "cell_type": "code",
      "source": [
        "import numpy as np\n",
        "\n",
        "data=next(iter(train_loader))\n",
        "import matplotlib.pyplot as plt\n",
        "plt.imshow(np.transpose(data[0][1].numpy(), (1,2,0)))\n",
        "print(data[1][1])"
      ],
      "metadata": {
        "colab": {
          "base_uri": "https://localhost:8080/",
          "height": 341
        },
        "id": "EJCYuiCjwH5W",
        "outputId": "536b0dcd-32fe-4605-993e-1ed835fdb5d8"
      },
      "execution_count": 41,
      "outputs": [
        {
          "output_type": "stream",
          "name": "stderr",
          "text": [
            "/usr/local/lib/python3.7/dist-packages/torch/utils/data/dataloader.py:481: UserWarning: This DataLoader will create 8 worker processes in total. Our suggested max number of worker in current system is 2, which is smaller than what this DataLoader is going to create. Please be aware that excessive worker creation might get DataLoader running slow or even freeze, lower the worker number to avoid potential slowness/freeze if necessary.\n",
            "  cpuset_checked))\n"
          ]
        },
        {
          "output_type": "stream",
          "name": "stdout",
          "text": [
            "tensor(7)\n"
          ]
        },
        {
          "output_type": "display_data",
          "data": {
            "image/png": "[encoded data removed]",
            "text/plain": [
              "<Figure size 432x288 with 1 Axes>"
            ]
          },
          "metadata": {
            "needs_background": "light"
          }
        }
      ]
    },
    {
      "cell_type": "code",
      "source": [
        "model.eval()\n",
        "hypothesis=model(data[0].to(device))\n",
        "pred=torch.argmax(hypothesis, dim=1)"
      ],
      "metadata": {
        "id": "Sh2w7xkN3BcY"
      },
      "execution_count": 57,
      "outputs": []
    },
    {
      "cell_type": "code",
      "source": [
        "(data[1].to(device)==pred).sum()/len(data[1])"
      ],
      "metadata": {
        "colab": {
          "base_uri": "https://localhost:8080/"
        },
        "id": "ZXt_DzPU46zz",
        "outputId": "ef82a9d6-4a0a-4ec8-df18-3e744a2979bd"
      },
      "execution_count": 61,
      "outputs": [
        {
          "output_type": "execute_result",
          "data": {
            "text/plain": [
              "tensor(0.7148, device='cuda:0')"
            ]
          },
          "metadata": {},
          "execution_count": 61
        }
      ]
    },
    {
      "cell_type": "code",
      "source": [
        ""
      ],
      "metadata": {
        "id": "vIXC5JhA5zB0"
      },
      "execution_count": null,
      "outputs": []
    }
  ],
  "metadata": {
    "accelerator": "GPU",
    "colab": {
      "name": "ResNet 구현.ipynb",
      "provenance": [],
      "authorship_tag": "ABX9TyMo5k/c8hAbK/ARdiXLvBk4",
      "include_colab_link": true
    },
    "kernelspec": {
      "display_name": "Python 3",
      "name": "python3"
    },
    "language_info": {
      "name": "python"
    }
  },
  "nbformat": 4,
  "nbformat_minor": 0
}